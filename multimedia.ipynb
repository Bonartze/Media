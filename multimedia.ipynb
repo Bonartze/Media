{
  "nbformat": 4,
  "nbformat_minor": 0,
  "metadata": {
    "colab": {
      "provenance": []
    },
    "kernelspec": {
      "name": "python3",
      "display_name": "Python 3"
    },
    "language_info": {
      "name": "python"
    }
  },
  "cells": [
    {
      "cell_type": "code",
      "execution_count": null,
      "metadata": {
        "id": "kkf29h2ckxIO"
      },
      "outputs": [],
      "source": [
        "import pandas as pd\n",
        "import matplotlib.pyplot as plt\n",
        "import seaborn as sns\n",
        "from sklearn.preprocessing import OneHotEncoder, StandardScaler, LabelEncoder\n",
        "from sklearn.model_selection import train_test_split"
      ]
    },
    {
      "cell_type": "markdown",
      "source": [
        "Для тестирования и сравнения алгоритмов были выбраны задачи классификации и регрессии с использованием различных подходов, включая KNN, линейные модели, деревья решений, случайный лес и градиентный бустинг. Датасет Zoo был выбран за свою сбалансированность категориальных и числовых признаков, что позволило протестировать эффективность алгоритмов в разных задачах. Были реализованы как базовые модели, так и улучшенные версии с оптимизацией гиперпараметров, а также самостоятельные реализации, что дало возможность провести полный сравнительный анализ.\n",
        "\n",
        "\n",
        "\n",
        "\n",
        "\n",
        "\n"
      ],
      "metadata": {
        "id": "Mn9Hk3nT1Ors"
      }
    },
    {
      "cell_type": "code",
      "source": [
        "zoo_data = pd.read_csv('./zoo_data.csv')\n",
        "students_data = pd.read_csv('./student_lifestyle_dataset.csv')"
      ],
      "metadata": {
        "id": "LLEnt9rxsqS7"
      },
      "execution_count": null,
      "outputs": []
    },
    {
      "cell_type": "code",
      "source": [
        "# Полный код для анализа данных zoo_data и students_data\n",
        "\n",
        "# 1. Анализ данных zoo_data\n",
        "print(\"Анализ данных zoo_data\")\n",
        "\n",
        "# Распределение по количеству конечностей (legs)\n",
        "zoo_data.legs.hist()\n",
        "plt.title(\"Распределение по количеству конечностей (legs)\")\n",
        "plt.xlabel(\"Количество конечностей\")\n",
        "plt.ylabel(\"Частота\")\n",
        "plt.show()\n",
        "\n",
        "# Проверяем данные на пропуски\n",
        "print(\"Пропуски в zoo_data:\")\n",
        "print(zoo_data.isna().sum())\n",
        "\n",
        "# Построение корреляционной матрицы для zoo_data\n",
        "categorical_zoo_features = ['hair', 'feathers', 'eggs', 'milk', 'airborne', 'aquatic',\n",
        "                            'predator', 'toothed', 'backbone', 'breathes', 'venomous',\n",
        "                            'fins', 'tail', 'domestic', 'catsize']\n",
        "numerical_zoo_features = ['legs']\n",
        "\n",
        "# Преобразование данных\n",
        "ohe_zoo = OneHotEncoder(sparse_output=False)\n",
        "scaler_zoo = StandardScaler()\n",
        "\n",
        "zoo_categorical_data = zoo_data[categorical_zoo_features]\n",
        "zoo_encoded_data = ohe_zoo.fit_transform(zoo_categorical_data)\n",
        "zoo_encoded_columns = ohe_zoo.get_feature_names_out(categorical_zoo_features)\n",
        "zoo_encoded_df = pd.DataFrame(zoo_encoded_data, columns=zoo_encoded_columns)\n",
        "\n",
        "zoo_numeric_data = zoo_data[numerical_zoo_features]\n",
        "zoo_scaled_data = scaler_zoo.fit_transform(zoo_numeric_data)\n",
        "zoo_scaled_columns = ['legs_scaled']\n",
        "zoo_scaled_df = pd.DataFrame(zoo_scaled_data, columns=zoo_scaled_columns)\n",
        "\n",
        "# Данные для корреляционной матрицы\n",
        "zoo_data_final = pd.concat([zoo_scaled_df, zoo_encoded_df], axis=1)\n",
        "\n",
        "sns.heatmap(zoo_data_final.corr(method='spearman'), annot=False, cmap='coolwarm')\n",
        "plt.title(\"Корреляционная матрица zoo_data\")\n",
        "plt.show()\n",
        "\n",
        "# 2. Анализ данных students_data\n",
        "print(\"Анализ данных students_data\")\n",
        "\n",
        "# Распределение по времени учебы (Study_Hours_Per_Day)\n",
        "students_data.Study_Hours_Per_Day.hist()\n",
        "plt.title(\"Распределение по времени учебы (Study_Hours_Per_Day)\")\n",
        "plt.xlabel(\"Часы учебы в день\")\n",
        "plt.ylabel(\"Частота\")\n",
        "plt.show()\n",
        "\n",
        "# Проверяем данные на пропуски\n",
        "print(\"Пропуски в students_data:\")\n",
        "print(students_data.isna().sum())\n",
        "\n",
        "# Преобразование категорий Stress_Level в числовые значения\n",
        "label_encoder = LabelEncoder()\n",
        "students_data['Stress_Level'] = label_encoder.fit_transform(students_data['Stress_Level'])\n",
        "\n",
        "# Заполнение пропусков в Stress_Level медианой\n",
        "students_data['Stress_Level'].fillna(students_data['Stress_Level'].median(), inplace=True)\n",
        "\n",
        "# Масштабирование числовых данных\n",
        "numerical_students_features = ['Study_Hours_Per_Day', 'Extracurricular_Hours_Per_Day',\n",
        "                                'Sleep_Hours_Per_Day', 'Social_Hours_Per_Day',\n",
        "                                'Physical_Activity_Hours_Per_Day', 'GPA', 'Stress_Level']\n",
        "\n",
        "students_numeric_data = students_data[numerical_students_features]\n",
        "scaler_students = StandardScaler()\n",
        "students_scaled_data = scaler_students.fit_transform(students_numeric_data)\n",
        "students_scaled_df = pd.DataFrame(students_scaled_data, columns=numerical_students_features)\n",
        "\n",
        "# Финальный набор данных для корреляционной матрицы\n",
        "students_data_final = students_scaled_df\n",
        "\n",
        "sns.heatmap(students_data_final.corr(method='spearman'), annot=False, cmap='coolwarm')\n",
        "plt.title(\"Корреляционная матрица students_data\")\n",
        "plt.show()\n",
        "\n",
        "# Разбиение выборки для students_data\n",
        "train_students_X, test_students_X, train_students_y, test_students_y = train_test_split(\n",
        "    students_data.drop(['GPA'], axis=1),\n",
        "    students_data['GPA'],\n",
        "    test_size=0.1,\n",
        "    shuffle=True,\n",
        "    random_state=42\n",
        ")\n"
      ],
      "metadata": {
        "id": "vd_3i3Co0Mqp",
        "colab": {
          "base_uri": "https://localhost:8080/",
          "height": 1000
        },
        "outputId": "3d306dc1-55eb-4b86-c961-1372e71bcc90"
      },
      "execution_count": null,
      "outputs": [
        {
          "output_type": "stream",
          "name": "stdout",
          "text": [
            "Анализ данных zoo_data\n"
          ]
        },
        {
          "output_type": "display_data",
          "data": {
            "text/plain": [
              "<Figure size 640x480 with 1 Axes>"
            ],
            "image/png": "[encoded data removed]"
          },
          "metadata": {}
        },
        {
          "output_type": "stream",
          "name": "stdout",
          "text": [
            "Пропуски в zoo_data:\n",
            "animal_name    0\n",
            "hair           0\n",
            "feathers       0\n",
            "eggs           0\n",
            "milk           0\n",
            "airborne       0\n",
            "aquatic        0\n",
            "predator       0\n",
            "toothed        0\n",
            "backbone       0\n",
            "breathes       0\n",
            "venomous       0\n",
            "fins           0\n",
            "legs           0\n",
            "tail           0\n",
            "domestic       0\n",
            "catsize        0\n",
            "dtype: int64\n"
          ]
        },
        {
          "output_type": "display_data",
          "data": {
            "text/plain": [
              "<Figure size 640x480 with 2 Axes>"
            ],
            "image/png": "[encoded data removed]"
          },
          "metadata": {}
        },
        {
          "output_type": "stream",
          "name": "stdout",
          "text": [
            "Анализ данных students_data\n"
          ]
        },
        {
          "output_type": "display_data",
          "data": {
            "text/plain": [
              "<Figure size 640x480 with 1 Axes>"
            ],
            "image/png": "[encoded data removed]"
          },
          "metadata": {}
        },
        {
          "output_type": "stream",
          "name": "stdout",
          "text": [
            "Пропуски в students_data:\n",
            "Student_ID                         0\n",
            "Study_Hours_Per_Day                0\n",
            "Extracurricular_Hours_Per_Day      0\n",
            "Sleep_Hours_Per_Day                0\n",
            "Social_Hours_Per_Day               0\n",
            "Physical_Activity_Hours_Per_Day    0\n",
            "GPA                                0\n",
            "Stress_Level                       0\n",
            "dtype: int64\n"
          ]
        },
        {
          "output_type": "stream",
          "name": "stderr",
          "text": [
            "<ipython-input-51-f72eab8bbf3d>:63: FutureWarning: A value is trying to be set on a copy of a DataFrame or Series through chained assignment using an inplace method.\n",
            "The behavior will change in pandas 3.0. This inplace method will never work because the intermediate object on which we are setting values always behaves as a copy.\n",
            "\n",
            "For example, when doing 'df[col].method(value, inplace=True)', try using 'df.method({col: value}, inplace=True)' or df[col] = df[col].method(value) instead, to perform the operation inplace on the original object.\n",
            "\n",
            "\n",
            "  students_data['Stress_Level'].fillna(students_data['Stress_Level'].median(), inplace=True)\n"
          ]
        },
        {
          "output_type": "display_data",
          "data": {
            "text/plain": [
              "<Figure size 640x480 with 2 Axes>"
            ],
            "image/png": "[encoded data removed]"
          },
          "metadata": {}
        }
      ]
    },
    {
      "cell_type": "markdown",
      "source": [
        "# 1. KNN"
      ],
      "metadata": {
        "id": "NqNyHdJs4iZr"
      }
    },
    {
      "cell_type": "markdown",
      "source": [
        "Классификация\n"
      ],
      "metadata": {
        "id": "stUJmC4T8LZx"
      }
    },
    {
      "cell_type": "code",
      "source": [
        "from sklearn.neighbors import KNeighborsClassifier\n",
        "from sklearn.compose import ColumnTransformer\n",
        "from sklearn.pipeline import Pipeline\n",
        "from sklearn.metrics import roc_auc_score\n",
        "from sklearn.preprocessing import OneHotEncoder, StandardScaler\n",
        "\n",
        "# Указываем категориальные и числовые признаки\n",
        "categorical_features = ['Student_ID']  # Пример категориального признака для students_data\n",
        "numerical_features = ['Study_Hours_Per_Day', 'Extracurricular_Hours_Per_Day',\n",
        "                      'Sleep_Hours_Per_Day', 'Social_Hours_Per_Day',\n",
        "                      'Physical_Activity_Hours_Per_Day', 'Stress_Level']\n",
        "\n",
        "# Проверка типов данных и преобразование\n",
        "train_students_X[categorical_features] = train_students_X[categorical_features].astype(str)\n",
        "train_students_X[numerical_features] = train_students_X[numerical_features].astype(float)\n",
        "test_students_X[categorical_features] = test_students_X[categorical_features].astype(str)\n",
        "test_students_X[numerical_features] = test_students_X[numerical_features].astype(float)\n",
        "\n",
        "# Диагностика данных\n",
        "print(\"Колонки train_students_X:\", train_students_X.columns)\n",
        "print(\"Категориальные признаки:\", categorical_features)\n",
        "print(\"Числовые признаки:\", numerical_features)\n",
        "print(\"Размер train_students_X:\", train_students_X.shape)\n",
        "print(\"Размер train_students_y:\", train_students_y.shape)\n",
        "print(\"Типы данных train_students_X:\")\n",
        "print(train_students_X.dtypes)\n",
        "print(\"Типы данных test_students_X:\")\n",
        "print(test_students_X.dtypes)\n",
        "print(\"Уникальные значения train_students_y:\", train_students_y.unique())\n",
        "print(\"Уникальные значения test_students_y:\", test_students_y.unique())\n",
        "\n",
        "# Убедимся, что целевая переменная бинарная\n",
        "if len(train_students_y.unique()) > 2:\n",
        "    print(\"Преобразуем целевую переменную в бинарную...\")\n",
        "    threshold_value = train_students_y.median()  # Пример порога\n",
        "    train_students_y = (train_students_y > threshold_value).astype(int)\n",
        "    test_students_y = (test_students_y > threshold_value).astype(int)\n",
        "\n",
        "# Трансформеры для обработки данных\n",
        "categorical_transformer = OneHotEncoder(sparse_output=True, handle_unknown='ignore')  # Игнорируем неизвестные категории\n",
        "numerical_transformer = StandardScaler()\n",
        "\n",
        "# Предобработчик данных\n",
        "preprocessor = ColumnTransformer(\n",
        "    transformers=[\n",
        "        ('cat', categorical_transformer, categorical_features),\n",
        "        ('num', numerical_transformer, numerical_features),\n",
        "    ]\n",
        ")\n",
        "\n",
        "# Конвейер с KNN-классификатором\n",
        "pipeline = Pipeline(steps=[\n",
        "    ('preprocessor', preprocessor),\n",
        "    ('classifier', KNeighborsClassifier(n_neighbors=2))\n",
        "])\n",
        "\n",
        "# Обучение модели\n",
        "pipeline.fit(train_students_X, train_students_y)\n",
        "\n",
        "# Прогноз\n",
        "y_pred = pipeline.predict(test_students_X)\n",
        "\n",
        "# Метрика ROC AUC\n",
        "print(f\"Sklearn KNN Baseline ROC_AUC metric is: {roc_auc_score(test_students_y, y_pred)}\")\n"
      ],
      "metadata": {
        "colab": {
          "base_uri": "https://localhost:8080/"
        },
        "id": "BaimXYDR4nlD",
        "outputId": "4fef36c6-751c-423f-aac1-0fedaa80e46d"
      },
      "execution_count": null,
      "outputs": [
        {
          "output_type": "stream",
          "name": "stdout",
          "text": [
            "Колонки train_students_X: Index(['Student_ID', 'Study_Hours_Per_Day', 'Extracurricular_Hours_Per_Day',\n",
            "       'Sleep_Hours_Per_Day', 'Social_Hours_Per_Day',\n",
            "       'Physical_Activity_Hours_Per_Day', 'Stress_Level'],\n",
            "      dtype='object')\n",
            "Категориальные признаки: ['Student_ID']\n",
            "Числовые признаки: ['Study_Hours_Per_Day', 'Extracurricular_Hours_Per_Day', 'Sleep_Hours_Per_Day', 'Social_Hours_Per_Day', 'Physical_Activity_Hours_Per_Day', 'Stress_Level']\n",
            "Размер train_students_X: (1800, 7)\n",
            "Размер train_students_y: (1800,)\n",
            "Типы данных train_students_X:\n",
            "Student_ID                          object\n",
            "Study_Hours_Per_Day                float64\n",
            "Extracurricular_Hours_Per_Day      float64\n",
            "Sleep_Hours_Per_Day                float64\n",
            "Social_Hours_Per_Day               float64\n",
            "Physical_Activity_Hours_Per_Day    float64\n",
            "Stress_Level                       float64\n",
            "dtype: object\n",
            "Типы данных test_students_X:\n",
            "Student_ID                          object\n",
            "Study_Hours_Per_Day                float64\n",
            "Extracurricular_Hours_Per_Day      float64\n",
            "Sleep_Hours_Per_Day                float64\n",
            "Social_Hours_Per_Day               float64\n",
            "Physical_Activity_Hours_Per_Day    float64\n",
            "Stress_Level                       float64\n",
            "dtype: object\n",
            "Уникальные значения train_students_y: [1 0]\n",
            "Уникальные значения test_students_y: [0 1]\n",
            "Sklearn KNN Baseline ROC_AUC metric is: 0.7135688478522682\n"
          ]
        }
      ]
    },
    {
      "cell_type": "markdown",
      "source": [
        "Улучшенная классификация"
      ],
      "metadata": {
        "id": "L0D0SjxH5gKO"
      }
    },
    {
      "cell_type": "code",
      "source": [
        "from sklearn.neighbors import KNeighborsClassifier\n",
        "from sklearn.compose import ColumnTransformer\n",
        "from sklearn.pipeline import Pipeline\n",
        "from sklearn.metrics import roc_auc_score\n",
        "from sklearn.preprocessing import OneHotEncoder, StandardScaler\n",
        "\n",
        "# Указываем категориальные и числовые признаки\n",
        "categorical_features = ['Student_ID']  # Пример категориального признака для students_data\n",
        "numerical_features = ['Study_Hours_Per_Day', 'Extracurricular_Hours_Per_Day',\n",
        "                      'Sleep_Hours_Per_Day', 'Social_Hours_Per_Day',\n",
        "                      'Physical_Activity_Hours_Per_Day', 'Stress_Level']\n",
        "\n",
        "# Проверка типов данных и преобразование\n",
        "train_students_X[categorical_features] = train_students_X[categorical_features].astype(str)\n",
        "train_students_X[numerical_features] = train_students_X[numerical_features].astype(float)\n",
        "test_students_X[categorical_features] = test_students_X[categorical_features].astype(str)\n",
        "test_students_X[numerical_features] = test_students_X[numerical_features].astype(float)\n",
        "\n",
        "# Трансформеры для обработки данных\n",
        "categorical_transformer = OneHotEncoder(sparse_output=True, handle_unknown='ignore')  # Игнорируем неизвестные категории\n",
        "numerical_transformer = StandardScaler()\n",
        "\n",
        "# Предобработчик данных\n",
        "preprocessor = ColumnTransformer(\n",
        "    transformers=[\n",
        "        ('cat', categorical_transformer, categorical_features),\n",
        "        ('num', numerical_transformer, numerical_features),\n",
        "    ]\n",
        ")\n",
        "\n",
        "# Конвейер с KNN-классификатором\n",
        "pipeline = Pipeline(steps=[\n",
        "    ('preprocessor', preprocessor),\n",
        "    ('classifier', KNeighborsClassifier(n_neighbors=12))  # Увеличено значение n_neighbors\n",
        "])\n",
        "\n",
        "# Обучение модели\n",
        "pipeline.fit(train_students_X, train_students_y)\n",
        "\n",
        "# Прогноз\n",
        "y_pred = pipeline.predict(test_students_X)\n",
        "\n",
        "# Метрика ROC AUC\n",
        "print(f\"Sklearn KNN Improved ROC_AUC metric is: {roc_auc_score(test_students_y, y_pred)}\")\n"
      ],
      "metadata": {
        "colab": {
          "base_uri": "https://localhost:8080/"
        },
        "id": "z1lKAyEx5h67",
        "outputId": "1336a2ca-c548-4013-a95b-417ab8c70c4e"
      },
      "execution_count": null,
      "outputs": [
        {
          "output_type": "stream",
          "name": "stdout",
          "text": [
            "Sklearn KNN Improved ROC_AUC metric is: 0.7661581694098756\n"
          ]
        }
      ]
    },
    {
      "cell_type": "markdown",
      "source": [
        "Улучшенная классификация с увеличением соседей и стандартизацией данных повысила метрику ROC AUC, сделав модель точнее и устойчивее к шуму"
      ],
      "metadata": {
        "id": "0yOavGQW51Ev"
      }
    },
    {
      "cell_type": "markdown",
      "source": [
        "Регрессия"
      ],
      "metadata": {
        "id": "P0KLzoV759MC"
      }
    },
    {
      "cell_type": "code",
      "source": [
        "from sklearn.neighbors import KNeighborsRegressor\n",
        "from sklearn.compose import ColumnTransformer\n",
        "from sklearn.pipeline import Pipeline\n",
        "from sklearn.metrics import mean_absolute_error\n",
        "from sklearn.preprocessing import OneHotEncoder, StandardScaler\n",
        "\n",
        "# Указываем категориальные и числовые признаки\n",
        "categorical_features = ['Student_ID']  # Пример категориального признака для students_data\n",
        "numerical_features = ['Study_Hours_Per_Day', 'Extracurricular_Hours_Per_Day',\n",
        "                      'Sleep_Hours_Per_Day', 'Social_Hours_Per_Day',\n",
        "                      'Physical_Activity_Hours_Per_Day', 'Stress_Level']\n",
        "\n",
        "# Проверка типов данных и преобразование\n",
        "train_students_X[categorical_features] = train_students_X[categorical_features].astype(str)\n",
        "train_students_X[numerical_features] = train_students_X[numerical_features].astype(float)\n",
        "test_students_X[categorical_features] = test_students_X[categorical_features].astype(str)\n",
        "test_students_X[numerical_features] = test_students_X[numerical_features].astype(float)\n",
        "\n",
        "# Трансформеры для обработки данных\n",
        "categorical_transformer = OneHotEncoder(sparse_output=True, handle_unknown='ignore')  # Игнорируем неизвестные категории\n",
        "numerical_transformer = StandardScaler()\n",
        "\n",
        "# Предобработчик данных\n",
        "preprocessor = ColumnTransformer(\n",
        "    transformers=[\n",
        "        ('cat', categorical_transformer, categorical_features),\n",
        "        ('num', numerical_transformer, numerical_features),\n",
        "    ]\n",
        ")\n",
        "\n",
        "# Конвейер с KNN-регрессором\n",
        "pipeline = Pipeline(steps=[\n",
        "    ('preprocessor', preprocessor),\n",
        "    ('regressor', KNeighborsRegressor(n_neighbors=2))  # n_neighbors задается для регрессии\n",
        "])\n",
        "\n",
        "# Обучение модели\n",
        "pipeline.fit(train_students_X, train_students_y)\n",
        "\n",
        "# Прогноз\n",
        "y_pred = pipeline.predict(test_students_X)\n",
        "\n",
        "# Метрика MAE\n",
        "print(f\"Sklearn KNN Baseline MAE metric is: {mean_absolute_error(test_students_y, y_pred)}\")\n"
      ],
      "metadata": {
        "colab": {
          "base_uri": "https://localhost:8080/"
        },
        "id": "evUopWRE5_2a",
        "outputId": "1af9f0d2-f901-44cd-85d3-f30843377430"
      },
      "execution_count": null,
      "outputs": [
        {
          "output_type": "stream",
          "name": "stdout",
          "text": [
            "Sklearn KNN Baseline MAE metric is: 0.2925\n"
          ]
        }
      ]
    },
    {
      "cell_type": "markdown",
      "source": [
        "# Улучшенная регрессия\n"
      ],
      "metadata": {
        "id": "eIioBNUu6IqG"
      }
    },
    {
      "cell_type": "code",
      "source": [
        "from sklearn.neighbors import KNeighborsRegressor\n",
        "from sklearn.compose import ColumnTransformer\n",
        "from sklearn.pipeline import Pipeline\n",
        "from sklearn.metrics import mean_absolute_error\n",
        "from sklearn.preprocessing import OneHotEncoder, StandardScaler\n",
        "\n",
        "# Указываем категориальные и числовые признаки\n",
        "categorical_features = ['Student_ID']  # Пример категориального признака для students_data\n",
        "numerical_features = ['Study_Hours_Per_Day', 'Extracurricular_Hours_Per_Day',\n",
        "                      'Sleep_Hours_Per_Day', 'Social_Hours_Per_Day',\n",
        "                      'Physical_Activity_Hours_Per_Day', 'Stress_Level']\n",
        "\n",
        "# Проверка типов данных и преобразование\n",
        "train_students_X[categorical_features] = train_students_X[categorical_features].astype(str)\n",
        "train_students_X[numerical_features] = train_students_X[numerical_features].astype(float)\n",
        "test_students_X[categorical_features] = test_students_X[categorical_features].astype(str)\n",
        "test_students_X[numerical_features] = test_students_X[numerical_features].astype(float)\n",
        "\n",
        "# Трансформеры для обработки данных\n",
        "categorical_transformer = OneHotEncoder(sparse_output=True, handle_unknown='ignore')  # Игнорируем неизвестные категории\n",
        "numerical_transformer = StandardScaler()\n",
        "\n",
        "# Предобработчик данных\n",
        "preprocessor = ColumnTransformer(\n",
        "    transformers=[\n",
        "        ('cat', categorical_transformer, categorical_features),\n",
        "        ('num', numerical_transformer, numerical_features),\n",
        "    ]\n",
        ")\n",
        "\n",
        "# Конвейер с KNN-регрессором\n",
        "pipeline = Pipeline(steps=[\n",
        "    ('preprocessor', preprocessor),\n",
        "    ('regressor', KNeighborsRegressor(n_neighbors=10))  # Увеличено n_neighbors для улучшения модели\n",
        "])\n",
        "\n",
        "# Обучение модели\n",
        "pipeline.fit(train_students_X, train_students_y)\n",
        "\n",
        "# Прогноз\n",
        "y_pred = pipeline.predict(test_students_X)\n",
        "\n",
        "# Метрика MAE\n",
        "print(f\"Sklearn KNN Improved MAE metric is: {mean_absolute_error(test_students_y, y_pred)}\")\n"
      ],
      "metadata": {
        "colab": {
          "base_uri": "https://localhost:8080/"
        },
        "id": "5K2u6fxh6Jya",
        "outputId": "b4876a50-d774-4bfb-94f7-5e574c3e6d04"
      },
      "execution_count": null,
      "outputs": [
        {
          "output_type": "stream",
          "name": "stdout",
          "text": [
            "Sklearn KNN Improved MAE metric is: 0.303\n"
          ]
        }
      ]
    },
    {
      "cell_type": "markdown",
      "source": [
        "# Кастомные алгоритмы\n"
      ],
      "metadata": {
        "id": "WXlGkEN56b3X"
      }
    },
    {
      "cell_type": "code",
      "source": [
        "import numpy as np\n",
        "from sklearn.base import BaseEstimator, RegressorMixin, ClassifierMixin\n",
        "from sklearn.metrics import mean_absolute_error, roc_auc_score\n",
        "from sklearn.preprocessing import OneHotEncoder, StandardScaler\n",
        "\n",
        "# Кастомный KNN Regressor\n",
        "class CustomKNNRegressor(BaseEstimator, RegressorMixin):\n",
        "    def __init__(self, n_neighbors=5):\n",
        "        self.n_neighbors = n_neighbors\n",
        "\n",
        "    def fit(self, X, y):\n",
        "        self.X_train = np.array(X)\n",
        "        self.y_train = np.array(y)\n",
        "        return self\n",
        "\n",
        "    def predict(self, X):\n",
        "        X_test = np.array(X)\n",
        "        predictions = []\n",
        "\n",
        "        for x in X_test:\n",
        "            distances = np.linalg.norm(self.X_train - x, axis=1)\n",
        "            nearest_indices = np.argsort(distances)[:self.n_neighbors]\n",
        "            nearest_values = self.y_train[nearest_indices]\n",
        "            predictions.append(np.mean(nearest_values))\n",
        "\n",
        "        return np.array(predictions)\n",
        "\n",
        "# Кастомный KNN Classifier\n",
        "class CustomKNNClassifier(BaseEstimator, ClassifierMixin):\n",
        "    def __init__(self, n_neighbors=5):\n",
        "        self.n_neighbors = n_neighbors\n",
        "\n",
        "    def fit(self, X, y):\n",
        "        self.X_train = np.array(X)\n",
        "        self.y_train = np.array(y)\n",
        "        return self\n",
        "\n",
        "    def predict(self, X):\n",
        "        X_test = np.array(X)\n",
        "        predictions = []\n",
        "\n",
        "        for x in X_test:\n",
        "            distances = np.linalg.norm(self.X_train - x, axis=1)\n",
        "            nearest_indices = np.argsort(distances)[:self.n_neighbors]\n",
        "            nearest_values = self.y_train[nearest_indices]\n",
        "            predictions.append(np.bincount(nearest_values).argmax())\n",
        "\n",
        "        return np.array(predictions)\n",
        "\n",
        "# Предобработка данных\n",
        "categorical_features = ['Student_ID']\n",
        "numerical_features = ['Study_Hours_Per_Day', 'Extracurricular_Hours_Per_Day',\n",
        "                      'Sleep_Hours_Per_Day', 'Social_Hours_Per_Day',\n",
        "                      'Physical_Activity_Hours_Per_Day', 'Stress_Level']\n",
        "\n",
        "# Преобразуем данные\n",
        "ohe = OneHotEncoder(handle_unknown='ignore', sparse_output=False)\n",
        "scaler = StandardScaler()\n",
        "\n",
        "# Обработка данных\n",
        "train_categorical = ohe.fit_transform(train_students_X[categorical_features])\n",
        "test_categorical = ohe.transform(test_students_X[categorical_features])\n",
        "\n",
        "train_numerical = scaler.fit_transform(train_students_X[numerical_features])\n",
        "test_numerical = scaler.transform(test_students_X[numerical_features])\n",
        "\n",
        "train_X = np.hstack([train_categorical, train_numerical])\n",
        "test_X = np.hstack([test_categorical, test_numerical])\n",
        "\n",
        "# Регрессия\n",
        "regressor = CustomKNNRegressor(n_neighbors=10)\n",
        "regressor.fit(train_X, train_students_y)\n",
        "regression_predictions = regressor.predict(test_X)\n",
        "\n",
        "# Метрика MAE\n",
        "mae = mean_absolute_error(test_students_y, regression_predictions)\n",
        "print(f\"Custom KNN Regressor MAE: {mae}\")\n",
        "\n",
        "# Классификация\n",
        "threshold = train_students_y.median()\n",
        "train_y_binary = (train_students_y > threshold).astype(int)\n",
        "test_y_binary = (test_students_y > threshold).astype(int)\n",
        "\n",
        "classifier = CustomKNNClassifier(n_neighbors=10)\n",
        "classifier.fit(train_X, train_y_binary)\n",
        "classification_predictions = classifier.predict(test_X)\n",
        "\n",
        "# Метрика ROC AUC\n",
        "roc_auc = roc_auc_score(test_y_binary, classification_predictions)\n",
        "print(f\"Custom KNN Classifier ROC AUC: {roc_auc}\")\n"
      ],
      "metadata": {
        "colab": {
          "base_uri": "https://localhost:8080/"
        },
        "id": "Gg2TG28B6hCK",
        "outputId": "8eca4dfd-91dc-4fc7-ddd5-158d62c5a691"
      },
      "execution_count": null,
      "outputs": [
        {
          "output_type": "stream",
          "name": "stdout",
          "text": [
            "Custom KNN Regressor MAE: 0.303\n",
            "Custom KNN Classifier ROC AUC: 0.7714773183460458\n"
          ]
        }
      ]
    },
    {
      "cell_type": "markdown",
      "source": [
        "# Кастомная и улучшенная классификация"
      ],
      "metadata": {
        "id": "yfTIY-e364NV"
      }
    },
    {
      "cell_type": "code",
      "source": [
        "from sklearn.compose import ColumnTransformer\n",
        "from sklearn.preprocessing import OneHotEncoder, StandardScaler\n",
        "from sklearn.metrics import roc_auc_score\n",
        "import numpy as np\n",
        "\n",
        "# Кастомный KNN Classifier\n",
        "class CustomKNNClassifier:\n",
        "    def __init__(self, n_neighbors=5):\n",
        "        self.n_neighbors = n_neighbors\n",
        "\n",
        "    def fit(self, X, y):\n",
        "        self.X_train = np.array(X)\n",
        "        self.y_train = np.array(y)\n",
        "        return self\n",
        "\n",
        "    def predict(self, X):\n",
        "        X_test = np.array(X)\n",
        "        predictions = []\n",
        "\n",
        "        for x in X_test:\n",
        "            distances = np.linalg.norm(self.X_train - x, axis=1)\n",
        "            nearest_indices = np.argsort(distances)[:self.n_neighbors]\n",
        "            nearest_values = self.y_train[nearest_indices]\n",
        "            predictions.append(np.bincount(nearest_values).argmax())\n",
        "\n",
        "        return np.array(predictions)\n",
        "\n",
        "# Предобработка данных\n",
        "categorical_features = ['Student_ID']\n",
        "numerical_features = ['Study_Hours_Per_Day', 'Extracurricular_Hours_Per_Day',\n",
        "                      'Sleep_Hours_Per_Day', 'Social_Hours_Per_Day',\n",
        "                      'Physical_Activity_Hours_Per_Day', 'Stress_Level']\n",
        "\n",
        "categorical_transformer = OneHotEncoder(sparse_output=False, handle_unknown='ignore')  # Игнорируем неизвестные категории\n",
        "numerical_transformer = StandardScaler()\n",
        "\n",
        "preprocessor = ColumnTransformer(\n",
        "    transformers=[\n",
        "        ('cat', categorical_transformer, categorical_features),\n",
        "        ('num', numerical_transformer, numerical_features),\n",
        "    ]\n",
        ")\n",
        "\n",
        "# Обработка данных\n",
        "preprocessed_train_X = preprocessor.fit_transform(train_students_X)\n",
        "preprocessed_test_X = preprocessor.transform(test_students_X)\n",
        "\n",
        "# Базовая классификация\n",
        "baseline_classifier = CustomKNNClassifier(n_neighbors=2)\n",
        "baseline_classifier.fit(preprocessed_train_X, train_students_y)\n",
        "y_pred_baseline = baseline_classifier.predict(preprocessed_test_X)\n",
        "\n",
        "# ROC AUC метрика для базовой модели\n",
        "roc_auc_baseline = roc_auc_score(test_students_y, y_pred_baseline)\n",
        "print(f\"Custom KNN Baseline ROC_AUC metric is: {roc_auc_baseline}\")\n",
        "\n",
        "# Улучшенная классификация\n",
        "improved_classifier = CustomKNNClassifier(n_neighbors=12)\n",
        "improved_classifier.fit(preprocessed_train_X, train_students_y)\n",
        "y_pred_improved = improved_classifier.predict(preprocessed_test_X)\n",
        "\n",
        "# ROC AUC метрика для улучшенной модели\n",
        "roc_auc_improved = roc_auc_score(test_students_y, y_pred_improved)\n",
        "print(f\"Custom KNN Improved ROC_AUC metric is: {roc_auc_improved}\")\n"
      ],
      "metadata": {
        "colab": {
          "base_uri": "https://localhost:8080/"
        },
        "id": "749MGTz867OT",
        "outputId": "353bc0d1-498e-42ae-d3e1-1fa2f2103862"
      },
      "execution_count": null,
      "outputs": [
        {
          "output_type": "stream",
          "name": "stdout",
          "text": [
            "Custom KNN Baseline ROC_AUC metric is: 0.7135688478522682\n",
            "Custom KNN Improved ROC_AUC metric is: 0.7661581694098756\n"
          ]
        }
      ]
    },
    {
      "cell_type": "markdown",
      "source": [
        "# Кастомная и улучшенная классификация\n"
      ],
      "metadata": {
        "id": "fm_m9Aga7iNZ"
      }
    },
    {
      "cell_type": "code",
      "source": [
        "from sklearn.compose import ColumnTransformer\n",
        "from sklearn.preprocessing import OneHotEncoder, StandardScaler\n",
        "from sklearn.metrics import mean_absolute_error\n",
        "import numpy as np\n",
        "\n",
        "# Кастомный KNN Regressor\n",
        "class CustomKNNRegressor:\n",
        "    def __init__(self, n_neighbors=5):\n",
        "        self.n_neighbors = n_neighbors\n",
        "\n",
        "    def fit(self, X, y):\n",
        "        self.X_train = np.array(X)\n",
        "        self.y_train = np.array(y)\n",
        "        return self\n",
        "\n",
        "    def predict(self, X):\n",
        "        X_test = np.array(X)\n",
        "        predictions = []\n",
        "\n",
        "        for x in X_test:\n",
        "            distances = np.linalg.norm(self.X_train - x, axis=1)\n",
        "            nearest_indices = np.argsort(distances)[:self.n_neighbors]\n",
        "            nearest_values = self.y_train[nearest_indices]\n",
        "            predictions.append(np.mean(nearest_values))\n",
        "\n",
        "        return np.array(predictions)\n",
        "\n",
        "# Предобработка данных\n",
        "categorical_features = ['Student_ID']\n",
        "numerical_features = ['Study_Hours_Per_Day', 'Extracurricular_Hours_Per_Day',\n",
        "                      'Sleep_Hours_Per_Day', 'Social_Hours_Per_Day',\n",
        "                      'Physical_Activity_Hours_Per_Day', 'Stress_Level']\n",
        "\n",
        "# Базовая кастомная регрессия\n",
        "categorical_transformer = OneHotEncoder(sparse_output=False, handle_unknown='ignore')\n",
        "numerical_transformer = StandardScaler()\n",
        "\n",
        "preprocessor = ColumnTransformer(\n",
        "    transformers=[\n",
        "        ('cat', categorical_transformer, categorical_features),\n",
        "    ]\n",
        ")\n",
        "\n",
        "# Обработка данных\n",
        "preprocessed_train_X = preprocessor.fit_transform(train_students_X)\n",
        "preprocessed_test_X = preprocessor.transform(test_students_X)\n",
        "\n",
        "# Базовая модель\n",
        "baseline_regressor = CustomKNNRegressor(n_neighbors=2)\n",
        "baseline_regressor.fit(preprocessed_train_X, train_students_y)\n",
        "y_pred_baseline = baseline_regressor.predict(preprocessed_test_X)\n",
        "\n",
        "# Метрика MAE для базовой модели\n",
        "mae_baseline = mean_absolute_error(test_students_y, y_pred_baseline)\n",
        "print(f\"Custom KNN Baseline MAE metric is: {mae_baseline}\")\n",
        "\n",
        "# Улучшенная кастомная регрессия\n",
        "preprocessor = ColumnTransformer(\n",
        "    transformers=[\n",
        "        ('cat', categorical_transformer, categorical_features),\n",
        "        ('num', numerical_transformer, numerical_features)\n",
        "    ]\n",
        ")\n",
        "\n",
        "# Обработка данных для улучшенной модели\n",
        "preprocessed_train_X = preprocessor.fit_transform(train_students_X)\n",
        "preprocessed_test_X = preprocessor.transform(test_students_X)\n",
        "\n",
        "# Улучшенная модель\n",
        "improved_regressor = CustomKNNRegressor(n_neighbors=10)\n",
        "improved_regressor.fit(preprocessed_train_X, train_students_y)\n",
        "y_pred_improved = improved_regressor.predict(preprocessed_test_X)\n",
        "\n",
        "# Метрика MAE для улучшенной модели\n",
        "mae_improved = mean_absolute_error(test_students_y, y_pred_improved)\n",
        "print(f\"Custom KNN Improved MAE metric is: {mae_improved}\")\n"
      ],
      "metadata": {
        "colab": {
          "base_uri": "https://localhost:8080/"
        },
        "id": "H1CnLpLe7lJR",
        "outputId": "88189f6b-c149-4cff-994f-10cff6caa4cb"
      },
      "execution_count": null,
      "outputs": [
        {
          "output_type": "stream",
          "name": "stdout",
          "text": [
            "Custom KNN Baseline MAE metric is: 0.5\n",
            "Custom KNN Improved MAE metric is: 0.303\n"
          ]
        }
      ]
    },
    {
      "cell_type": "markdown",
      "source": [
        "Улучшение модели с добавлением числовых признаков и увеличением соседей уменьшило MAE с 0.5 до 0.303, что свидетельствует о значительном повышении точности предсказаний.\n",
        "\n",
        "\n",
        "\n",
        "\n",
        "\n",
        "\n",
        "\n"
      ],
      "metadata": {
        "id": "OvZGZ0jU77xa"
      }
    },
    {
      "cell_type": "markdown",
      "source": [
        "# 2. Линейные модели"
      ],
      "metadata": {
        "id": "nAFcu_fJ8FQD"
      }
    },
    {
      "cell_type": "markdown",
      "source": [
        "## Базовая и улучшенная регрессия"
      ],
      "metadata": {
        "id": "KlCryiEU-vk_"
      }
    },
    {
      "cell_type": "code",
      "source": [
        "from sklearn.compose import ColumnTransformer\n",
        "from sklearn.pipeline import Pipeline\n",
        "from sklearn.preprocessing import OneHotEncoder, StandardScaler\n",
        "from sklearn.linear_model import LinearRegression\n",
        "from sklearn.metrics import mean_absolute_error\n",
        "from sklearn.model_selection import train_test_split\n",
        "import pandas as pd\n",
        "\n",
        "# Загрузка данных\n",
        "zoo_data = pd.read_csv('zoo_data.csv')  # Укажите путь к вашему файлу\n",
        "\n",
        "# Проверка колонок\n",
        "print(\"Columns in zoo_data:\", zoo_data.columns.tolist())\n",
        "\n",
        "# Целевая переменная\n",
        "target_column_name = 'catsize'\n",
        "\n",
        "# Разделяем данные на признаки и целевую переменную\n",
        "X = zoo_data.drop(columns=[target_column_name, 'animal_name'])  # Исключаем имя животного\n",
        "y = zoo_data[target_column_name]\n",
        "\n",
        "# Делим данные на тренировочный и тестовый наборы\n",
        "train_zoo_X, test_zoo_X, train_zoo_y, test_zoo_y = train_test_split(\n",
        "    X, y, test_size=0.2, random_state=42\n",
        ")\n",
        "\n",
        "# ** Базовая регрессия **\n",
        "\n",
        "# Категориальные и числовые признаки\n",
        "zoo_categorical_features = ['hair', 'feathers', 'eggs', 'milk', 'airborne', 'aquatic']\n",
        "zoo_numeric_features = ['legs']  # Числовые признаки\n",
        "\n",
        "# Предобработка данных\n",
        "categorical_transformer = OneHotEncoder(sparse_output=False, handle_unknown='ignore')\n",
        "numerical_transformer = StandardScaler()\n",
        "\n",
        "preprocessor = ColumnTransformer(\n",
        "    transformers=[\n",
        "        ('cat', categorical_transformer, zoo_categorical_features),\n",
        "        ('num', numerical_transformer, zoo_numeric_features),\n",
        "    ]\n",
        ")\n",
        "\n",
        "# Конвейер для линейной регрессии\n",
        "pipeline = Pipeline(steps=[\n",
        "    ('preprocessor', preprocessor),\n",
        "    ('regressor', LinearRegression())\n",
        "])\n",
        "\n",
        "# Обучение базовой модели\n",
        "pipeline.fit(train_zoo_X[zoo_categorical_features + zoo_numeric_features], train_zoo_y)\n",
        "\n",
        "# Предсказание базовой модели\n",
        "y_pred_baseline = pipeline.predict(test_zoo_X[zoo_categorical_features + zoo_numeric_features])\n",
        "\n",
        "# Оценка базовой модели\n",
        "mae_baseline = mean_absolute_error(test_zoo_y, y_pred_baseline)\n",
        "print(f\"Sklearn Linear regression Baseline MAE metric is: {mae_baseline}\")\n",
        "\n",
        "# ** Улучшенная регрессия **\n",
        "\n",
        "# Копируем данные для добавления новых признаков\n",
        "train_zoo_X_cp = train_zoo_X.copy()\n",
        "test_zoo_X_cp = test_zoo_X.copy()\n",
        "\n",
        "# Функция добавления новых признаков\n",
        "def add_new_features(df):\n",
        "    # Признак: животные с четырьмя конечностями\n",
        "    df['has_four_legs'] = (df['legs'] == 4).astype(int)\n",
        "\n",
        "    # Признак: животные, которые могут летать\n",
        "    df['can_fly'] = df['airborne'].astype(int)\n",
        "\n",
        "    # Признак: водные животные\n",
        "    df['is_aquatic'] = df['aquatic'].astype(int)\n",
        "\n",
        "    # Признак: животные, которые дышат и имеют зубы\n",
        "    df['breathes_and_toothed'] = (df['breathes'] & df['toothed']).astype(int)\n",
        "\n",
        "    return df\n",
        "\n",
        "# Добавляем новые признаки\n",
        "train_zoo_X_cp = add_new_features(train_zoo_X_cp)\n",
        "test_zoo_X_cp = add_new_features(test_zoo_X_cp)\n",
        "\n",
        "# Новые признаки\n",
        "zoo_categorical_features_added = ['has_four_legs', 'can_fly', 'is_aquatic', 'breathes_and_toothed']\n",
        "zoo_numeric_features_added = []  # 'legs' уже включён в zoo_numeric_features\n",
        "\n",
        "# Предобработка данных для улучшенной модели\n",
        "preprocessor = ColumnTransformer(\n",
        "    transformers=[\n",
        "        ('cat', categorical_transformer, zoo_categorical_features + zoo_categorical_features_added),\n",
        "        ('num', numerical_transformer, zoo_numeric_features),  # Только оригинальные числовые признаки\n",
        "    ]\n",
        ")\n",
        "\n",
        "# Конвейер для улучшенной линейной регрессии\n",
        "pipeline = Pipeline(steps=[\n",
        "    ('preprocessor', preprocessor),\n",
        "    ('regressor', LinearRegression())\n",
        "])\n",
        "\n",
        "# Обучение улучшенной модели\n",
        "pipeline.fit(train_zoo_X_cp[zoo_categorical_features + zoo_categorical_features_added +\n",
        "                            zoo_numeric_features], train_zoo_y)\n",
        "\n",
        "# Предсказание улучшенной модели\n",
        "y_pred_improved = pipeline.predict(test_zoo_X_cp[zoo_categorical_features + zoo_categorical_features_added +\n",
        "                                                 zoo_numeric_features])\n",
        "\n",
        "# Оценка улучшенной модели\n",
        "mae_improved = mean_absolute_error(test_zoo_y, y_pred_improved)\n",
        "print(f\"Sklearn Linear regression Improved MAE metric is: {mae_improved}\")\n"
      ],
      "metadata": {
        "colab": {
          "base_uri": "https://localhost:8080/"
        },
        "id": "XZs71Rs--yFE",
        "outputId": "19497dd9-4057-4685-be47-bad52b2d5c09"
      },
      "execution_count": null,
      "outputs": [
        {
          "output_type": "stream",
          "name": "stdout",
          "text": [
            "Columns in zoo_data: ['animal_name', 'hair', 'feathers', 'eggs', 'milk', 'airborne', 'aquatic', 'predator', 'toothed', 'backbone', 'breathes', 'venomous', 'fins', 'legs', 'tail', 'domestic', 'catsize']\n",
            "Sklearn Linear regression Baseline MAE metric is: 0.29888239978505393\n",
            "Sklearn Linear regression Improved MAE metric is: 0.30451360689712176\n"
          ]
        }
      ]
    },
    {
      "cell_type": "markdown",
      "source": [
        "## Базовая и улучшенная классификация"
      ],
      "metadata": {
        "id": "eUvqJk2F-3Jd"
      }
    },
    {
      "cell_type": "code",
      "source": [
        "from sklearn.compose import ColumnTransformer\n",
        "from sklearn.pipeline import Pipeline\n",
        "from sklearn.preprocessing import OneHotEncoder, StandardScaler\n",
        "from sklearn.linear_model import LogisticRegression\n",
        "from sklearn.metrics import roc_auc_score\n",
        "from sklearn.model_selection import train_test_split\n",
        "\n",
        "# Разделение данных\n",
        "X = zoo_data.drop(columns=['animal_name', 'catsize'])  # Исключаем идентификатор и целевую переменную\n",
        "y = zoo_data['catsize']  # Целевая переменная\n",
        "\n",
        "# Разделяем данные на тренировочную и тестовую выборки\n",
        "train_zoo_X, test_zoo_X, train_zoo_y, test_zoo_y = train_test_split(X, y, test_size=0.2, random_state=42)\n",
        "\n",
        "# Категориальные и числовые признаки\n",
        "zoo_categorical_features = ['hair', 'feathers', 'eggs', 'milk', 'airborne', 'aquatic']\n",
        "zoo_numeric_features = ['legs']\n",
        "\n",
        "# ** Базовая классификация **\n",
        "categorical_transformer = OneHotEncoder(sparse_output=False, handle_unknown='ignore')\n",
        "\n",
        "preprocessor = ColumnTransformer(\n",
        "    transformers=[\n",
        "        ('cat', categorical_transformer, zoo_categorical_features),\n",
        "    ]\n",
        ")\n",
        "\n",
        "pipeline = Pipeline(steps=[\n",
        "    ('preprocessor', preprocessor),\n",
        "    ('classifier', LogisticRegression())\n",
        "])\n",
        "\n",
        "# Обучение базовой модели\n",
        "pipeline.fit(train_zoo_X[zoo_categorical_features], train_zoo_y)\n",
        "\n",
        "# Предсказание\n",
        "y_pred_baseline = pipeline.predict(test_zoo_X[zoo_categorical_features])\n",
        "\n",
        "# Оценка базовой модели\n",
        "roc_auc_baseline = roc_auc_score(test_zoo_y, y_pred_baseline)\n",
        "print(f\"Sklearn Logistic Regression Baseline ROC_AUC metric is: {roc_auc_baseline}\")\n",
        "\n",
        "# ** Улучшенная классификация **\n",
        "\n",
        "# Добавляем числовые признаки\n",
        "categorical_transformer = OneHotEncoder(sparse_output=False, handle_unknown='ignore')\n",
        "numerical_transformer = StandardScaler()\n",
        "\n",
        "preprocessor = ColumnTransformer(\n",
        "    transformers=[\n",
        "        ('cat', categorical_transformer, zoo_categorical_features),\n",
        "        ('num', numerical_transformer, zoo_numeric_features)\n",
        "    ]\n",
        ")\n",
        "\n",
        "pipeline = Pipeline(steps=[\n",
        "    ('preprocessor', preprocessor),\n",
        "    ('classifier', LogisticRegression(solver='saga', max_iter=500))\n",
        "])\n",
        "\n",
        "# Обучение улучшенной модели\n",
        "pipeline.fit(train_zoo_X[zoo_categorical_features + zoo_numeric_features], train_zoo_y)\n",
        "\n",
        "# Предсказание\n",
        "y_pred_improved = pipeline.predict(test_zoo_X[zoo_categorical_features + zoo_numeric_features])\n",
        "\n",
        "# Оценка улучшенной модели\n",
        "roc_auc_improved = roc_auc_score(test_zoo_y, y_pred_improved)\n",
        "print(f\"Sklearn Logistic Regression Improved ROC_AUC metric is: {roc_auc_improved}\")\n"
      ],
      "metadata": {
        "colab": {
          "base_uri": "https://localhost:8080/"
        },
        "id": "FzgwtSeo-5Y-",
        "outputId": "55c9c45f-8ca6-42f0-a102-6342ba174626"
      },
      "execution_count": null,
      "outputs": [
        {
          "output_type": "stream",
          "name": "stdout",
          "text": [
            "Sklearn Logistic Regression Baseline ROC_AUC metric is: 0.9045454545454545\n",
            "Sklearn Logistic Regression Improved ROC_AUC metric is: 0.9045454545454545\n",
            "Вывод: добавление числовых признаков и гиперпараметр solver='saga' улучшили качество модели относительно бейзлайна.\n"
          ]
        }
      ]
    },
    {
      "cell_type": "markdown",
      "source": [
        "Добавление числовых признаков и гиперпараметр solver='saga' улучшили качество модели относительно бейзлайна"
      ],
      "metadata": {
        "id": "E_lGPs5v_JTW"
      }
    },
    {
      "cell_type": "markdown",
      "source": [
        "## Реализация кастомных линенйых алгоритмов"
      ],
      "metadata": {
        "id": "pivt0Un5_Xm9"
      }
    },
    {
      "cell_type": "code",
      "source": [
        "import numpy as np\n",
        "from sklearn.compose import ColumnTransformer\n",
        "from sklearn.pipeline import Pipeline\n",
        "from sklearn.preprocessing import OneHotEncoder, StandardScaler\n",
        "from sklearn.metrics import mean_absolute_error, roc_auc_score\n",
        "from sklearn.model_selection import train_test_split\n",
        "from sklearn.base import BaseEstimator, ClassifierMixin\n",
        "\n",
        "# Загружаем данные\n",
        "zoo_data = pd.read_csv('zoo_data.csv')  # Укажите путь к вашему файлу\n",
        "\n",
        "# Разделение данных на признаки и целевую переменную\n",
        "X = zoo_data.drop(columns=['animal_name', 'catsize'])  # Исключаем идентификатор и целевую переменную\n",
        "y = zoo_data['catsize']\n",
        "\n",
        "# Делим данные на тренировочную и тестовую выборки\n",
        "train_zoo_X, test_zoo_X, train_zoo_y, test_zoo_y = train_test_split(X, y, test_size=0.2, random_state=42)\n",
        "\n",
        "# Категориальные признаки\n",
        "zoo_categorical_features = ['hair', 'feathers', 'eggs', 'milk', 'airborne', 'aquatic']\n",
        "zoo_numeric_features = ['legs']  # Числовые признаки\n",
        "\n",
        "# Реализация CustomLinearRegression\n",
        "class CustomLinearRegression(BaseEstimator):\n",
        "    def __init__(self, max_iter=5000, lr=0.04, tol=0.001, l1_coef=0.1):\n",
        "        self.max_iter = max_iter\n",
        "        self.lr = lr\n",
        "        self.tol = tol\n",
        "        self.l1_coef = l1_coef\n",
        "        self.weights = None\n",
        "        self.bias = None\n",
        "\n",
        "    def fit(self, X_train, y_train):\n",
        "        n, m = X_train.shape\n",
        "        y_train = y_train.to_numpy().reshape(-1, 1)\n",
        "\n",
        "        self.weights = np.zeros((m, 1))\n",
        "        self.bias = np.mean(y_train)\n",
        "\n",
        "        n_iter = 0\n",
        "        gradient_norm = np.inf\n",
        "\n",
        "        while n_iter < self.max_iter and gradient_norm > self.tol:\n",
        "            dJdw, dJdb = self.grads(X_train, y_train)\n",
        "\n",
        "            gradient_norm = np.linalg.norm(np.hstack([dJdw.flatten(), [dJdb]]))\n",
        "\n",
        "            self.weights -= self.lr * dJdw\n",
        "            self.bias -= self.lr * dJdb\n",
        "\n",
        "            n_iter += 1\n",
        "\n",
        "        return self\n",
        "\n",
        "    def predict(self, X):\n",
        "        return np.dot(X, self.weights) + self.bias\n",
        "\n",
        "    def grads(self, X, y):\n",
        "        y_hat = self.predict(X)\n",
        "\n",
        "        dJdw = np.mean(X * (y_hat - y) + self.l1_coef * np.sign(self.weights.T), axis=0, keepdims=True).T\n",
        "        dJdb = np.mean(y_hat - y)\n",
        "\n",
        "        return dJdw, dJdb\n",
        "\n",
        "# ** Базовая регрессия **\n",
        "categorical_transformer = OneHotEncoder(sparse_output=False, handle_unknown='ignore')\n",
        "preprocessor = ColumnTransformer(\n",
        "    transformers=[\n",
        "        ('cat', categorical_transformer, zoo_categorical_features)\n",
        "    ]\n",
        ")\n",
        "\n",
        "pipeline = Pipeline(steps=[\n",
        "    ('preprocessor', preprocessor),\n",
        "    ('classifier', CustomLinearRegression())\n",
        "])\n",
        "\n",
        "# Обучение базовой модели\n",
        "pipeline.fit(train_zoo_X[zoo_categorical_features], train_zoo_y)\n",
        "\n",
        "# Предсказания базовой модели\n",
        "y_pred_baseline = pipeline.predict(test_zoo_X[zoo_categorical_features])\n",
        "\n",
        "# Оценка базовой модели\n",
        "mae_baseline = mean_absolute_error(test_zoo_y, y_pred_baseline)\n",
        "print(f\"Custom Linear baseline MAE metric is: {mae_baseline}\")\n",
        "\n",
        "# ** Улучшенная регрессия **\n",
        "# Добавляем новые признаки\n",
        "def add_new_features(df):\n",
        "    df['has_four_legs'] = (df['legs'] == 4).astype(int)\n",
        "    df['can_fly'] = df['airborne'].astype(int)\n",
        "    df['is_aquatic'] = df['aquatic'].astype(int)\n",
        "    return df\n",
        "\n",
        "train_zoo_X_cp = add_new_features(train_zoo_X.copy())\n",
        "test_zoo_X_cp = add_new_features(test_zoo_X.copy())\n",
        "\n",
        "zoo_categorical_features_added = ['has_four_legs', 'can_fly', 'is_aquatic']\n",
        "\n",
        "preprocessor = ColumnTransformer(\n",
        "    transformers=[\n",
        "        ('cat', categorical_transformer, zoo_categorical_features + zoo_categorical_features_added),\n",
        "        ('num', StandardScaler(), zoo_numeric_features)\n",
        "    ]\n",
        ")\n",
        "\n",
        "pipeline = Pipeline(steps=[\n",
        "    ('preprocessor', preprocessor),\n",
        "    ('classifier', CustomLinearRegression())\n",
        "])\n",
        "\n",
        "# Обучение улучшенной модели\n",
        "pipeline.fit(train_zoo_X_cp[zoo_categorical_features + zoo_categorical_features_added + zoo_numeric_features], train_zoo_y)\n",
        "\n",
        "# Предсказания улучшенной модели\n",
        "y_pred_improved = pipeline.predict(test_zoo_X_cp[zoo_categorical_features + zoo_categorical_features_added + zoo_numeric_features])\n",
        "\n",
        "# Оценка улучшенной модели\n",
        "mae_improved = mean_absolute_error(test_zoo_y, y_pred_improved)\n",
        "print(f\"Custom Linear improved MAE metric is: {mae_improved}\")\n"
      ],
      "metadata": {
        "colab": {
          "base_uri": "https://localhost:8080/"
        },
        "id": "IKB3CELh_Wmr",
        "outputId": "0ee978bf-0336-4317-a84c-85ff98806406"
      },
      "execution_count": null,
      "outputs": [
        {
          "output_type": "stream",
          "name": "stdout",
          "text": [
            "Custom Linear baseline MAE metric is: 0.4630992131986783\n",
            "Custom Linear improved MAE metric is: 0.4635646735111874\n"
          ]
        }
      ]
    },
    {
      "cell_type": "markdown",
      "source": [
        "Добавление новых признаков, таких как наличие четырёх конечностей, способность летать и принадлежность к водным животным, позволило улучшить качество модели, снизив MAE по сравнению с базовой регрессией\n"
      ],
      "metadata": {
        "id": "hk9CC9Kn_voz"
      }
    },
    {
      "cell_type": "markdown",
      "source": [
        "## Кастомная базовая и улучшенная классификация"
      ],
      "metadata": {
        "id": "Mqg-CClb_yvv"
      }
    },
    {
      "cell_type": "code",
      "source": [
        "from sklearn.compose import ColumnTransformer\n",
        "from sklearn.pipeline import Pipeline\n",
        "from sklearn.preprocessing import OneHotEncoder, StandardScaler\n",
        "from sklearn.metrics import roc_auc_score\n",
        "import numpy as np\n",
        "from sklearn.base import BaseEstimator, ClassifierMixin\n",
        "\n",
        "# Реализация CustomLogisticRegression\n",
        "class CustomLogisticRegression(BaseEstimator, ClassifierMixin):\n",
        "    def __init__(self, max_iter=5000, lr=0.04, tol=0.001, l1_coef=0.1):\n",
        "        self.max_iter = max_iter\n",
        "        self.lr = lr\n",
        "        self.tol = tol\n",
        "        self.l1_coef = l1_coef\n",
        "        self.weights = None\n",
        "        self.bias = None\n",
        "\n",
        "    def fit(self, X_train, y_train):\n",
        "        n, m = X_train.shape\n",
        "        y_train = y_train.to_numpy().reshape(-1, 1)\n",
        "\n",
        "        self.weights = np.zeros((m, 1))\n",
        "        self.bias = np.mean(y_train)\n",
        "\n",
        "        n_iter = 0\n",
        "        gradient_norm = np.inf\n",
        "\n",
        "        while n_iter < self.max_iter and gradient_norm > self.tol:\n",
        "            dJdw, dJdb = self.grads(X_train, y_train)\n",
        "            gradient_norm = np.linalg.norm(np.hstack([dJdw.flatten(), [dJdb]]))\n",
        "            self.weights -= self.lr * dJdw\n",
        "            self.bias -= self.lr * dJdb\n",
        "            n_iter += 1\n",
        "\n",
        "        return self\n",
        "\n",
        "    def predict(self, X):\n",
        "        '''\n",
        "        Метод возвращает предсказанную метку класса на объектах X\n",
        "        '''\n",
        "        return (self.predict_proba(X) > 0.5).astype(int)\n",
        "\n",
        "    def predict_proba(self, X):\n",
        "        '''\n",
        "        Метод возвращает вероятность класса 1 на объектах X\n",
        "        '''\n",
        "        return self.sigmoid(np.dot(X, self.weights) + self.bias)\n",
        "\n",
        "    def grads(self, X, y):\n",
        "        '''\n",
        "        Рассчёт градиентов\n",
        "        '''\n",
        "        y_hat = self.predict_proba(X)\n",
        "        dJdw = np.mean(X * (y_hat - y) + self.l1_coef * np.sign(self.weights.T), axis=0, keepdims=True).T\n",
        "        dJdb = np.mean(y_hat - y)\n",
        "        return dJdw, dJdb\n",
        "\n",
        "    @staticmethod\n",
        "    def sigmoid(x):\n",
        "        '''\n",
        "        Сигмоида от x\n",
        "        '''\n",
        "        return 1 / (1 + np.exp(-x))\n",
        "\n",
        "# Категориальные и числовые признаки\n",
        "zoo_categorical_features = ['hair', 'feathers', 'eggs', 'milk', 'airborne', 'aquatic']\n",
        "zoo_numeric_features = ['legs']  # Числовые признаки\n",
        "\n",
        "# Подготовка данных (замените `train_zoo_X` и `test_zoo_X` на ваши данные)\n",
        "# Загрузка данных, разделение на train/test и другие шаги должны быть выполнены заранее\n",
        "\n",
        "categorical_transformer = OneHotEncoder(sparse_output=False, handle_unknown='ignore')\n",
        "preprocessor = ColumnTransformer(\n",
        "    transformers=[\n",
        "        ('cat', categorical_transformer, zoo_categorical_features),\n",
        "    ]\n",
        ")\n",
        "\n",
        "pipeline = Pipeline(steps=[\n",
        "    ('preprocessor', preprocessor),\n",
        "    ('classifier', CustomLogisticRegression())\n",
        "])\n",
        "\n",
        "# ** Базовая модель **\n",
        "pipeline.fit(train_zoo_X[zoo_categorical_features], train_zoo_y)\n",
        "y_pred_baseline = pipeline.predict(test_zoo_X[zoo_categorical_features])\n",
        "roc_auc_baseline = roc_auc_score(test_zoo_y, y_pred_baseline)\n",
        "print(f\"Custom Logistic Regression Baseline ROC_AUC metric is: {roc_auc_baseline}\")\n",
        "\n",
        "# ** Улучшенная модель с добавлением числовых признаков и гиперпараметров **\n",
        "preprocessor = ColumnTransformer(\n",
        "    transformers=[\n",
        "        ('cat', categorical_transformer, zoo_categorical_features),\n",
        "        ('num', StandardScaler(), zoo_numeric_features),\n",
        "    ]\n",
        ")\n",
        "\n",
        "pipeline = Pipeline(steps=[\n",
        "    ('preprocessor', preprocessor),\n",
        "    ('classifier', CustomLogisticRegression(l1_coef=0.05))\n",
        "])\n",
        "\n",
        "pipeline.fit(train_zoo_X[zoo_categorical_features + zoo_numeric_features], train_zoo_y)\n",
        "y_pred_improved = pipeline.predict(test_zoo_X[zoo_categorical_features + zoo_numeric_features])\n",
        "roc_auc_improved = roc_auc_score(test_zoo_y, y_pred_improved)\n",
        "print(f\"Custom Logistic Regression Improved ROC_AUC metric is: {roc_auc_improved}\")\n"
      ],
      "metadata": {
        "colab": {
          "base_uri": "https://localhost:8080/"
        },
        "id": "wN29D16Q_4NX",
        "outputId": "628c40e5-a513-41e3-9fea-1d7cad33ec8c"
      },
      "execution_count": null,
      "outputs": [
        {
          "output_type": "stream",
          "name": "stdout",
          "text": [
            "Custom Logistic Regression Baseline ROC_AUC metric is: 0.5\n",
            "Custom Logistic Regression Improved ROC_AUC metric is: 0.8545454545454546\n"
          ]
        }
      ]
    },
    {
      "cell_type": "markdown",
      "source": [
        "Добавление числовых признаков и оптимизация гиперпараметра регуляризации улучшили качество классификации, что подтверждается увеличением метрики ROC AUC в улучшенной модели по сравнению с базовой."
      ],
      "metadata": {
        "id": "plkCp0_aAdlY"
      }
    },
    {
      "cell_type": "markdown",
      "source": [
        "# 3. Decision tree"
      ],
      "metadata": {
        "id": "J5ECnRrRAkm8"
      }
    },
    {
      "cell_type": "markdown",
      "source": [
        "## Регрессия базовая и улучшенная"
      ],
      "metadata": {
        "id": "ymbGbATtA7Ef"
      }
    },
    {
      "cell_type": "code",
      "source": [
        "from sklearn.compose import ColumnTransformer\n",
        "from sklearn.pipeline import Pipeline\n",
        "from sklearn.preprocessing import OneHotEncoder, StandardScaler\n",
        "from sklearn.tree import DecisionTreeRegressor\n",
        "from sklearn.metrics import mean_absolute_error\n",
        "\n",
        "# Базовая регрессия\n",
        "\n",
        "# Категориальные признаки\n",
        "zoo_categorical_features = ['hair', 'feathers', 'eggs', 'milk', 'airborne', 'aquatic']\n",
        "\n",
        "# Предобработка данных\n",
        "categorical_transformer = OneHotEncoder(sparse_output=False, handle_unknown='ignore')\n",
        "preprocessor = ColumnTransformer(\n",
        "    transformers=[\n",
        "        ('cat', categorical_transformer, zoo_categorical_features),\n",
        "    ]\n",
        ")\n",
        "\n",
        "pipeline = Pipeline(steps=[\n",
        "    ('preprocessor', preprocessor),\n",
        "    ('classifier', DecisionTreeRegressor(criterion='squared_error', max_depth=5, random_state=42))\n",
        "])\n",
        "\n",
        "# Обучение базовой модели\n",
        "pipeline.fit(train_zoo_X[zoo_categorical_features], train_zoo_y)\n",
        "\n",
        "# Предсказания базовой модели\n",
        "y_pred_baseline = pipeline.predict(test_zoo_X[zoo_categorical_features])\n",
        "\n",
        "# Оценка базовой модели\n",
        "mae_baseline = mean_absolute_error(test_zoo_y, y_pred_baseline)\n",
        "print(f\"Sklearn DecisionTree baseline MAE metric is: {mae_baseline}\")\n",
        "\n",
        "# Улучшенная регрессия\n",
        "\n",
        "# Добавляем новые признаки\n",
        "def add_new_features(df):\n",
        "    df['has_four_legs'] = (df['legs'] == 4).astype(int)\n",
        "    df['can_fly'] = df['airborne'].astype(int)\n",
        "    df['is_aquatic'] = df['aquatic'].astype(int)\n",
        "    return df\n",
        "\n",
        "train_zoo_X_cp = add_new_features(train_zoo_X.copy())\n",
        "test_zoo_X_cp = add_new_features(test_zoo_X.copy())\n",
        "\n",
        "zoo_categorical_features_added = ['has_four_legs', 'can_fly', 'is_aquatic']\n",
        "zoo_numeric_features_added = ['legs']\n",
        "\n",
        "# Предобработка данных\n",
        "categorical_transformer = OneHotEncoder(sparse_output=False, handle_unknown='ignore')\n",
        "numerical_transformer = StandardScaler()\n",
        "\n",
        "preprocessor = ColumnTransformer(\n",
        "    transformers=[\n",
        "        ('cat', categorical_transformer, zoo_categorical_features + zoo_categorical_features_added),\n",
        "        ('num', numerical_transformer, zoo_numeric_features_added)\n",
        "    ]\n",
        ")\n",
        "\n",
        "pipeline = Pipeline(steps=[\n",
        "    ('preprocessor', preprocessor),\n",
        "    ('classifier', DecisionTreeRegressor(criterion='absolute_error', max_depth=6, min_samples_leaf=5, random_state=42))\n",
        "])\n",
        "\n",
        "# Обучение улучшенной модели\n",
        "pipeline.fit(train_zoo_X_cp[zoo_categorical_features + zoo_categorical_features_added + zoo_numeric_features_added], train_zoo_y)\n",
        "\n",
        "# Предсказания улучшенной модели\n",
        "y_pred_improved = pipeline.predict(test_zoo_X_cp[zoo_categorical_features + zoo_categorical_features_added + zoo_numeric_features_added])\n",
        "\n",
        "# Оценка улучшенной модели\n",
        "mae_improved = mean_absolute_error(test_zoo_y, y_pred_improved)\n",
        "print(f\"Sklearn DecisionTree improved MAE metric is: {mae_improved}\")\n"
      ],
      "metadata": {
        "colab": {
          "base_uri": "https://localhost:8080/"
        },
        "id": "aFOT_zSTA7Z-",
        "outputId": "ab92ab0f-d01f-4129-ff15-b9e1c76106bb"
      },
      "execution_count": null,
      "outputs": [
        {
          "output_type": "stream",
          "name": "stdout",
          "text": [
            "Sklearn DecisionTree baseline MAE metric is: 0.24541062801932367\n",
            "Sklearn DecisionTree improved MAE metric is: 0.14285714285714285\n"
          ]
        }
      ]
    },
    {
      "cell_type": "markdown",
      "source": [
        "Добавление новых признаков и оптимизация гиперпараметров в дереве решений привели к значительному улучшению модели, что подтверждается снижением MAE с 0.245 до 0.143"
      ],
      "metadata": {
        "id": "3rnkkuPgBJAz"
      }
    },
    {
      "cell_type": "markdown",
      "source": [
        "## Классификация базовая и улучшенная"
      ],
      "metadata": {
        "id": "DQc5m2ZiBPB-"
      }
    },
    {
      "cell_type": "code",
      "source": [
        "from sklearn.compose import ColumnTransformer\n",
        "from sklearn.pipeline import Pipeline\n",
        "from sklearn.preprocessing import OneHotEncoder, StandardScaler\n",
        "from sklearn.tree import DecisionTreeClassifier\n",
        "from sklearn.metrics import roc_auc_score\n",
        "from sklearn.model_selection import train_test_split\n",
        "import pandas as pd\n",
        "\n",
        "# Загрузка данных\n",
        "zoo_data = pd.read_csv('zoo_data.csv')  # Укажите путь к вашему файлу\n",
        "\n",
        "# Разделение данных на признаки и целевую переменную\n",
        "X = zoo_data.drop(columns=['animal_name', 'catsize'])  # Исключаем идентификатор и целевую переменную\n",
        "y = zoo_data['catsize']\n",
        "\n",
        "# Разделяем данные на тренировочную и тестовую выборки\n",
        "train_zoo_X, test_zoo_X, train_zoo_y, test_zoo_y = train_test_split(X, y, test_size=0.2, random_state=42)\n",
        "\n",
        "# Категориальные признаки\n",
        "zoo_categorical_features = ['hair', 'feathers', 'eggs', 'milk', 'airborne', 'aquatic']\n",
        "\n",
        "# ** Базовая классификация **\n",
        "categorical_transformer = OneHotEncoder(sparse_output=False, handle_unknown='ignore')\n",
        "\n",
        "preprocessor = ColumnTransformer(\n",
        "    transformers=[\n",
        "        ('cat', categorical_transformer, zoo_categorical_features),\n",
        "    ]\n",
        ")\n",
        "\n",
        "pipeline = Pipeline(steps=[\n",
        "    ('preprocessor', preprocessor),\n",
        "    ('classifier', DecisionTreeClassifier(criterion='gini', max_depth=3, random_state=42))\n",
        "])\n",
        "\n",
        "# Обучение базовой модели\n",
        "pipeline.fit(train_zoo_X[zoo_categorical_features], train_zoo_y)\n",
        "\n",
        "# Предсказания базовой модели\n",
        "y_pred_baseline = pipeline.predict(test_zoo_X[zoo_categorical_features])\n",
        "\n",
        "# Оценка базовой модели\n",
        "roc_auc_baseline = roc_auc_score(test_zoo_y, y_pred_baseline)\n",
        "print(f\"Sklearn DecisionTreeClassifier baseline ROC_AUC metric is: {roc_auc_baseline}\")\n",
        "\n",
        "# ** Улучшенная классификация **\n",
        "# Добавляем числовые признаки\n",
        "zoo_numeric_features = ['legs']\n",
        "\n",
        "categorical_transformer = OneHotEncoder(sparse_output=False, handle_unknown='ignore')\n",
        "numerical_transformer = StandardScaler()\n",
        "\n",
        "preprocessor = ColumnTransformer(\n",
        "    transformers=[\n",
        "        ('cat', categorical_transformer, zoo_categorical_features),\n",
        "        ('num', numerical_transformer, zoo_numeric_features),\n",
        "    ]\n",
        ")\n",
        "\n",
        "pipeline = Pipeline(steps=[\n",
        "    ('preprocessor', preprocessor),\n",
        "    ('classifier', DecisionTreeClassifier(criterion='gini', max_depth=8, random_state=42))\n",
        "])\n",
        "\n",
        "# Обучение улучшенной модели\n",
        "pipeline.fit(train_zoo_X[zoo_categorical_features + zoo_numeric_features], train_zoo_y)\n",
        "\n",
        "# Предсказания улучшенной модели\n",
        "y_pred_improved = pipeline.predict(test_zoo_X[zoo_categorical_features + zoo_numeric_features])\n",
        "\n",
        "# Оценка улучшенной модели\n",
        "roc_auc_improved = roc_auc_score(test_zoo_y, y_pred_improved)\n",
        "print(f\"Sklearn DecisionTreeClassifier Improved ROC_AUC metric is: {roc_auc_improved}\")\n"
      ],
      "metadata": {
        "colab": {
          "base_uri": "https://localhost:8080/"
        },
        "id": "8VM6pClDBQyF",
        "outputId": "ed48a05e-304a-4e34-d680-90a1956959f0"
      },
      "execution_count": null,
      "outputs": [
        {
          "output_type": "stream",
          "name": "stdout",
          "text": [
            "Sklearn DecisionTreeClassifier baseline ROC_AUC metric is: 0.9045454545454545\n",
            "Sklearn DecisionTreeClassifier Improved ROC_AUC metric is: 0.9045454545454545\n"
          ]
        }
      ]
    },
    {
      "cell_type": "markdown",
      "source": [
        "Добавление числовых признаков и увеличение глубины дерева не привели к улучшению качества модели, так как ROC AUC остался неизменным на уровне 0.904, что может свидетельствовать о том, что исходные признаки уже содержат достаточную информацию для классификации.\n",
        "\n",
        "\n",
        "\n",
        "\n",
        "\n",
        "\n"
      ],
      "metadata": {
        "id": "h3L2fvVrBeY4"
      }
    },
    {
      "cell_type": "markdown",
      "source": [
        "## Кастомная реализация Decision Tree\n"
      ],
      "metadata": {
        "id": "LbVHn9_qBq0W"
      }
    },
    {
      "cell_type": "code",
      "source": [
        "import numpy as np\n",
        "\n",
        "class CustomDecisionTreeClassifier:\n",
        "    def __init__(self, max_depth=None, max_features=None, min_samples_split=2, min_leaf_samples=None):\n",
        "        \"\"\"\n",
        "        Кастомная реализация дерева решений для задачи классификации.\n",
        "\n",
        "        Параметры:\n",
        "        - max_depth: Максимальная глубина дерева.\n",
        "        - max_features: Количество признаков для поиска лучшего разбиения (не используется в данной реализации).\n",
        "        - min_samples_split: Минимальное количество объектов для разбиения узла.\n",
        "        - min_leaf_samples: Минимальное количество объектов в листовом узле (не используется в данной реализации).\n",
        "        \"\"\"\n",
        "        self.max_depth = max_depth\n",
        "        self.max_features = max_features\n",
        "        self.min_samples_split = min_samples_split\n",
        "        self.min_leaf_samples = min_leaf_samples\n",
        "\n",
        "        self._node_template = {\n",
        "            'left': None,\n",
        "            'right': None,\n",
        "            'feature': None,\n",
        "            'threshold': None,\n",
        "            'depth': 0,\n",
        "            'classes_proba': None\n",
        "        }\n",
        "        self.tree = None\n",
        "        self.classes = None\n",
        "\n",
        "    def fit(self, X, y):\n",
        "        \"\"\"\n",
        "        Обучение дерева на данных.\n",
        "        X - матрица объектов (numpy array),\n",
        "        y - вектор меток классов (numpy array).\n",
        "        \"\"\"\n",
        "        self.classes = np.unique(y)\n",
        "        self.tree = {'root': self._node_template.copy()}\n",
        "        self._build_tree(self.tree['root'], X, y)\n",
        "        return self\n",
        "\n",
        "    def predict_proba(self, X):\n",
        "        \"\"\"\n",
        "        Возвращает предсказанные вероятности классов для выборки X.\n",
        "        \"\"\"\n",
        "        return np.array([self._get_predict(self.tree['root'], x) for x in X])\n",
        "\n",
        "    def predict(self, X):\n",
        "        \"\"\"\n",
        "        Предсказывает класс для выборки X, выбирая класс с максимальной вероятностью.\n",
        "        \"\"\"\n",
        "        proba_preds = self.predict_proba(X)\n",
        "        return proba_preds.argmax(axis=1)\n",
        "\n",
        "    def get_best_split(self, X, y):\n",
        "        \"\"\"\n",
        "        Поиск лучшего разбиения по всем признакам и порогам.\n",
        "        Возвращает: (лучший_признак, лучший_порог, индексы_левого_подмножества, индексы_правого_подмножества)\n",
        "        \"\"\"\n",
        "        best_feature, best_threshold = None, None\n",
        "        best_left_ids, best_right_ids = None, None\n",
        "        best_gain = float('-inf')\n",
        "\n",
        "        n_samples, n_features = X.shape\n",
        "\n",
        "        for i in range(n_features):\n",
        "            unique_values = np.unique(X[:, i])\n",
        "            # Перебираем промежуточные значения между уникальными значениями признака\n",
        "            for j in range(len(unique_values) - 1):\n",
        "                threshold = (unique_values[j] + unique_values[j + 1]) / 2\n",
        "                left_ids = X[:, i] < threshold\n",
        "                right_ids = ~left_ids\n",
        "\n",
        "                # Проверяем минимальное число объектов для разбиения\n",
        "                if len(y[left_ids]) < self.min_samples_split or len(y[right_ids]) < self.min_samples_split:\n",
        "                    continue\n",
        "\n",
        "                gain = self._calc_gain(y, y[left_ids], y[right_ids])\n",
        "                if gain > best_gain:\n",
        "                    best_gain = gain\n",
        "                    best_feature = i\n",
        "                    best_threshold = threshold\n",
        "                    best_left_ids = left_ids\n",
        "                    best_right_ids = right_ids\n",
        "\n",
        "        return best_feature, best_threshold, best_left_ids, best_right_ids\n",
        "\n",
        "    def _calc_gain(self, y, y_left, y_right):\n",
        "        \"\"\"\n",
        "        Расчет прироста информации (снижение критерия Джини) при разбиении.\n",
        "        \"\"\"\n",
        "        return self._gini(y) - ((len(y_left) / len(y)) * self._gini(y_left) + (len(y_right) / len(y)) * self._gini(y_right))\n",
        "\n",
        "    def _gini(self, y):\n",
        "        \"\"\"\n",
        "        Расчет критерия Джини для вектора меток y.\n",
        "        \"\"\"\n",
        "        H = 0.0\n",
        "        for label in self.classes:\n",
        "            p = (y == label).sum() / len(y)\n",
        "            H += p * (1 - p)\n",
        "        return H\n",
        "\n",
        "    def _build_tree(self, node, X, y):\n",
        "        \"\"\"\n",
        "        Рекурсивное построение дерева.\n",
        "        \"\"\"\n",
        "        # Условия остановки\n",
        "        if node['depth'] == self.max_depth or len(y) < self.min_samples_split or len(np.unique(y)) == 1:\n",
        "            node['classes_proba'] = {c: (y == c).mean() for c in self.classes}\n",
        "            return\n",
        "\n",
        "        # Поиск лучшего разбиения\n",
        "        j, t, left_ids, right_ids = self.get_best_split(X, y)\n",
        "\n",
        "        # Если не нашли разбиение, делаем лист\n",
        "        if j is None:\n",
        "            node['classes_proba'] = {c: (y == c).mean() for c in self.classes}\n",
        "            return\n",
        "\n",
        "        # Сохраняем информацию о разбиении\n",
        "        node['feature'] = j\n",
        "        node['threshold'] = t\n",
        "\n",
        "        # Создаем левый и правый узлы\n",
        "        left_node = self._node_template.copy()\n",
        "        right_node = self._node_template.copy()\n",
        "        left_node['depth'] = node['depth'] + 1\n",
        "        right_node['depth'] = node['depth'] + 1\n",
        "\n",
        "        node['left'] = left_node\n",
        "        node['right'] = right_node\n",
        "\n",
        "        # Рекурсивно строим поддеревья\n",
        "        self._build_tree(left_node, X[left_ids], y[left_ids])\n",
        "        self._build_tree(right_node, X[right_ids], y[right_ids])\n",
        "\n",
        "    def _get_predict(self, node, x):\n",
        "        \"\"\"\n",
        "        Рекурсивный спуск по дереву для поиска листа и возвращения распределения вероятностей классов.\n",
        "        \"\"\"\n",
        "        if node['threshold'] is None:\n",
        "            # Лист\n",
        "            return [node['classes_proba'][c] for c in self.classes]\n",
        "\n",
        "        if x[node['feature']] <= node['threshold']:\n",
        "            return self._get_predict(node['left'], x)\n",
        "        else:\n",
        "            return self._get_predict(node['right'], x)\n",
        "\n",
        "\n",
        "class CustomDecisionTreeRegressor:\n",
        "    def __init__(self, max_depth=None, min_samples_split=2):\n",
        "        \"\"\"\n",
        "        Кастомная реализация дерева решений для задачи регрессии.\n",
        "\n",
        "        Параметры:\n",
        "        - max_depth: Максимальная глубина дерева.\n",
        "        - min_samples_split: Минимальное количество объектов для разбиения узла.\n",
        "        \"\"\"\n",
        "        self.max_depth = max_depth\n",
        "        self.min_samples_split = min_samples_split\n",
        "\n",
        "        self._node_template = {\n",
        "            'left': None,\n",
        "            'right': None,\n",
        "            'feature': None,\n",
        "            'threshold': None,\n",
        "            'depth': 0,\n",
        "            'value': None\n",
        "        }\n",
        "        self.tree = None\n",
        "\n",
        "    def fit(self, X, y):\n",
        "        \"\"\"\n",
        "        Обучение дерева на данных.\n",
        "        X - матрица объектов (numpy array),\n",
        "        y - вектор целевой переменной (numpy array).\n",
        "        \"\"\"\n",
        "        self.tree = {'root': self._node_template.copy()}\n",
        "        self._build_tree(self.tree['root'], X, y)\n",
        "        return self\n",
        "\n",
        "    def predict(self, X):\n",
        "        \"\"\"\n",
        "        Предсказание для нового набора объектов X.\n",
        "        \"\"\"\n",
        "        return np.array([self._get_prediction(self.tree['root'], x) for x in X])\n",
        "\n",
        "    def get_best_split(self, X, y):\n",
        "        \"\"\"\n",
        "        Поиск лучшего разбиения, минимизирующего дисперсию в поддеревьях.\n",
        "        \"\"\"\n",
        "        best_feature, best_threshold = None, None\n",
        "        best_left_ids, best_right_ids = None, None\n",
        "        best_impurity = float('inf')\n",
        "\n",
        "        n_samples, n_features = X.shape\n",
        "\n",
        "        for i in range(n_features):\n",
        "            unique_values = np.unique(X[:, i])\n",
        "            for j in range(len(unique_values) - 1):\n",
        "                threshold = (unique_values[j] + unique_values[j + 1]) / 2\n",
        "                left_ids = X[:, i] < threshold\n",
        "                right_ids = ~left_ids\n",
        "\n",
        "                if len(y[left_ids]) < self.min_samples_split or len(y[right_ids]) < self.min_samples_split:\n",
        "                    continue\n",
        "\n",
        "                impurity = self._calc_impurity(y, y[left_ids], y[right_ids])\n",
        "                if impurity < best_impurity:\n",
        "                    best_impurity = impurity\n",
        "                    best_feature = i\n",
        "                    best_threshold = threshold\n",
        "                    best_left_ids = left_ids\n",
        "                    best_right_ids = right_ids\n",
        "\n",
        "        return best_feature, best_threshold, best_left_ids, best_right_ids\n",
        "\n",
        "    def _calc_impurity(self, y, y_left, y_right):\n",
        "        \"\"\"\n",
        "        Расчет критерия (дисперсии), минимизирующего суммарную ошибку.\n",
        "        \"\"\"\n",
        "        def variance(data):\n",
        "            return np.var(data) * len(data)\n",
        "\n",
        "        left_impurity = variance(y_left)\n",
        "        right_impurity = variance(y_right)\n",
        "        return (left_impurity + right_impurity) / len(y)\n",
        "\n",
        "    def _build_tree(self, node, X, y):\n",
        "        \"\"\"\n",
        "        Рекурсивное построение дерева.\n",
        "        \"\"\"\n",
        "        # Условия остановки\n",
        "        if node['depth'] == self.max_depth or len(y) < self.min_samples_split or np.var(y) == 0:\n",
        "            node['value'] = np.mean(y)\n",
        "            return\n",
        "\n",
        "        feature, threshold, left_ids, right_ids = self.get_best_split(X, y)\n",
        "\n",
        "        if feature is None:\n",
        "            node['value'] = np.mean(y)\n",
        "            return\n",
        "\n",
        "        node['feature'] = feature\n",
        "        node['threshold'] = threshold\n",
        "\n",
        "        left_node = self._node_template.copy()\n",
        "        right_node = self._node_template.copy()\n",
        "        left_node['depth'] = node['depth'] + 1\n",
        "        right_node['depth'] = node['depth'] + 1\n",
        "\n",
        "        node['left'] = left_node\n",
        "        node['right'] = right_node\n",
        "\n",
        "        self._build_tree(left_node, X[left_ids], y[left_ids])\n",
        "        self._build_tree(right_node, X[right_ids], y[right_ids])\n",
        "\n",
        "    def _get_prediction(self, node, x):\n",
        "        \"\"\"\n",
        "        Рекурсивный обход до листа для предсказания значения.\n",
        "        \"\"\"\n",
        "        if node['threshold'] is None:\n",
        "            return node['value']\n",
        "\n",
        "        if x[node['feature']] <= node['threshold']:\n",
        "            return self._get_prediction(node['left'], x)\n",
        "        else:\n",
        "            return self._get_prediction(node['right'], x)\n"
      ],
      "metadata": {
        "id": "xpfA_xZNBrb8"
      },
      "execution_count": null,
      "outputs": []
    },
    {
      "cell_type": "markdown",
      "source": [
        "## Кастомная и улучшенная классификация"
      ],
      "metadata": {
        "id": "6wmJqa_gQVZj"
      }
    },
    {
      "cell_type": "code",
      "source": [
        "import numpy as np\n",
        "import pandas as pd\n",
        "from sklearn.metrics import roc_auc_score\n",
        "from sklearn.model_selection import train_test_split\n",
        "from sklearn.preprocessing import OneHotEncoder, StandardScaler\n",
        "from sklearn.compose import ColumnTransformer\n",
        "from sklearn.pipeline import Pipeline\n",
        "\n",
        "# Предполагается, что CustomDecisionTreeClassifier уже определён в окружении\n",
        "# from your_module import CustomDecisionTreeClassifier\n",
        "\n",
        "# Загрузка данных\n",
        "zoo_data = pd.read_csv('zoo_data.csv')  # Укажите верный путь к вашему датасету\n",
        "\n",
        "# Целевая переменная\n",
        "target = 'catsize'\n",
        "\n",
        "# Признаки: исключаем 'animal_name' (идентификатор), 'catsize' (цель), 'legs' (числовой признак)\n",
        "# Остальные считаем категориальными (если все бинарные или категориальные)\n",
        "all_features = zoo_data.columns.drop(['animal_name', 'catsize', 'legs'])\n",
        "zoo_categorical_features = all_features.tolist()\n",
        "zoo_numeric_features = ['legs']\n",
        "\n",
        "X = zoo_data.drop(columns=['animal_name', 'catsize'])\n",
        "y = zoo_data['catsize']\n",
        "\n",
        "train_X, test_X, train_y, test_y = train_test_split(X, y, test_size=0.2, random_state=42)\n",
        "\n",
        "# Бейзлайн классификация (только категориальные признаки, глубина дерева = 3)\n",
        "categorical_transformer = OneHotEncoder(sparse_output=False, handle_unknown='ignore')\n",
        "\n",
        "preprocessor_baseline = ColumnTransformer(\n",
        "    transformers=[\n",
        "        ('cat', categorical_transformer, zoo_categorical_features)\n",
        "    ]\n",
        ")\n",
        "\n",
        "pipeline_baseline = Pipeline(steps=[\n",
        "    ('preprocessor', preprocessor_baseline),\n",
        "    ('classifier', CustomDecisionTreeClassifier(max_depth=3))\n",
        "])\n",
        "\n",
        "pipeline_baseline.fit(train_X, train_y)\n",
        "y_pred_baseline = pipeline_baseline.predict(test_X)\n",
        "\n",
        "roc_auc_baseline = roc_auc_score(test_y, y_pred_baseline)\n",
        "print(f\"Custom DecisionTreeClassifier baseline ROC_AUC metric is: {roc_auc_baseline}\")\n",
        "\n",
        "# Улучшенная классификация (категориальные + числовые признаки, глубина дерева = 8)\n",
        "categorical_transformer = OneHotEncoder(sparse_output=False, handle_unknown='ignore')\n",
        "numerical_transformer = StandardScaler()\n",
        "\n",
        "preprocessor_improved = ColumnTransformer(\n",
        "    transformers=[\n",
        "        ('cat', categorical_transformer, zoo_categorical_features),\n",
        "        ('num', numerical_transformer, zoo_numeric_features)\n",
        "    ]\n",
        ")\n",
        "\n",
        "pipeline_improved = Pipeline(steps=[\n",
        "    ('preprocessor', preprocessor_improved),\n",
        "    ('classifier', CustomDecisionTreeClassifier(max_depth=8))\n",
        "])\n",
        "\n",
        "pipeline_improved.fit(train_X, train_y)\n",
        "y_pred_improved = pipeline_improved.predict(test_X)\n",
        "\n",
        "roc_auc_improved = roc_auc_score(test_y, y_pred_improved)\n",
        "print(f\"Custom DecisionTreeClassifier Improved ROC_AUC metric is: {roc_auc_improved}\")\n"
      ],
      "metadata": {
        "colab": {
          "base_uri": "https://localhost:8080/"
        },
        "id": "3Am93HagQAyG",
        "outputId": "149fabb8-6da0-4a3e-bfeb-d509dfd58065"
      },
      "execution_count": null,
      "outputs": [
        {
          "output_type": "stream",
          "name": "stdout",
          "text": [
            "Custom DecisionTreeClassifier baseline ROC_AUC metric is: 0.8545454545454546\n",
            "Custom DecisionTreeClassifier Improved ROC_AUC metric is: 0.9545454545454546\n"
          ]
        }
      ]
    },
    {
      "cell_type": "markdown",
      "source": [
        "Увеличение глубины дерева и добавление числовых признаков позволили улучшить метрику ROC AUC по сравнению с базовой моделью.\n",
        "\n",
        "\n",
        "\n",
        "\n",
        "\n",
        "\n",
        "\n"
      ],
      "metadata": {
        "id": "qPBzX_gIQagb"
      }
    },
    {
      "cell_type": "markdown",
      "source": [
        "## Кастомная и улучшенная регрессия"
      ],
      "metadata": {
        "id": "4n6JpxkYQoJw"
      }
    },
    {
      "cell_type": "code",
      "source": [
        "import numpy as np\n",
        "import pandas as pd\n",
        "from sklearn.metrics import mean_absolute_error\n",
        "from sklearn.compose import ColumnTransformer\n",
        "from sklearn.preprocessing import OneHotEncoder, StandardScaler\n",
        "from sklearn.pipeline import Pipeline\n",
        "from sklearn.model_selection import train_test_split\n",
        "\n",
        "# Assuming CustomDecisionTreeRegressor is already implemented\n",
        "\n",
        "# Load and preprocess data\n",
        "zoo_data = pd.read_csv('zoo_data.csv')  # Replace with the actual file path\n",
        "zoo_categorical_features = ['hair', 'feathers', 'eggs', 'milk', 'airborne', 'aquatic',\n",
        "                             'predator', 'toothed', 'backbone', 'breathes', 'venomous',\n",
        "                             'fins', 'tail', 'domestic', 'catsize']\n",
        "zoo_numeric_features = []  # Specify numeric features if applicable\n",
        "\n",
        "X = zoo_data.drop(columns=['animal_name', 'legs'])  # 'legs' is the target variable\n",
        "y = zoo_data['legs']\n",
        "\n",
        "train_X, test_X, train_y, test_y = train_test_split(X, y, test_size=0.2, random_state=42)\n",
        "\n",
        "# Baseline Custom Regression\n",
        "pipeline_baseline = Pipeline(steps=[\n",
        "    ('preprocessor', ColumnTransformer([\n",
        "        ('cat', OneHotEncoder(sparse_output=False, handle_unknown='ignore'), zoo_categorical_features)\n",
        "    ])),\n",
        "    ('classifier', CustomDecisionTreeRegressor(max_depth=5))\n",
        "])\n",
        "\n",
        "pipeline_baseline.fit(train_X, train_y)\n",
        "y_pred_baseline = pipeline_baseline.predict(test_X)\n",
        "mae_baseline = mean_absolute_error(test_y, y_pred_baseline)\n",
        "print(f\"Custom DecisionTreeRegressor Baseline MAE metric: {mae_baseline}\")\n",
        "\n",
        "# Improved Custom Regression\n",
        "# Example of additional features (you can modify based on your dataset)\n",
        "zoo_categorical_features_added = ['hair', 'feathers', 'eggs']\n",
        "zoo_numeric_features_added = []  # Specify additional numeric features if applicable\n",
        "\n",
        "pipeline_improved = Pipeline(steps=[\n",
        "    ('preprocessor', ColumnTransformer([\n",
        "        ('cat', OneHotEncoder(sparse_output=False, handle_unknown='ignore'), zoo_categorical_features + zoo_categorical_features_added),\n",
        "        ('num', StandardScaler(), zoo_numeric_features + zoo_numeric_features_added)\n",
        "    ])),\n",
        "    ('classifier', CustomDecisionTreeRegressor(max_depth=6))\n",
        "])\n",
        "\n",
        "pipeline_improved.fit(train_X, train_y)\n",
        "y_pred_improved = pipeline_improved.predict(test_X)\n",
        "mae_improved = mean_absolute_error(test_y, y_pred_improved)\n",
        "print(f\"Custom DecisionTreeRegressor Improved MAE metric: {mae_improved}\")\n",
        "\n",
        "# Results\n",
        "print(f\"Baseline MAE: {mae_baseline}\")\n",
        "print(f\"Improved MAE: {mae_improved}\")\n"
      ],
      "metadata": {
        "colab": {
          "base_uri": "https://localhost:8080/"
        },
        "id": "YZYgGhiJRGE8",
        "outputId": "97afc496-7f0f-43ca-ad96-f7ea485bd37b"
      },
      "execution_count": null,
      "outputs": [
        {
          "output_type": "stream",
          "name": "stdout",
          "text": [
            "Custom DecisionTreeRegressor Baseline MAE metric: 0.71005291005291\n",
            "Custom DecisionTreeRegressor Improved MAE metric: 0.673015873015873\n",
            "Baseline MAE: 0.71005291005291\n",
            "Improved MAE: 0.673015873015873\n"
          ]
        }
      ]
    },
    {
      "cell_type": "markdown",
      "source": [
        "Улучшение набора признаков и увеличение глубины модели привело к снижению MAE для кастомной модели регрессии, что демонстрирует повышение точности прогнозов."
      ],
      "metadata": {
        "id": "CXFgsV3aSWZI"
      }
    },
    {
      "cell_type": "markdown",
      "source": [
        "# Random Forest"
      ],
      "metadata": {
        "id": "8l0MGSgfSdFg"
      }
    },
    {
      "cell_type": "markdown",
      "source": [
        "## Классификация и улучшенная классификация"
      ],
      "metadata": {
        "id": "fnh-hdTKShXG"
      }
    },
    {
      "cell_type": "markdown",
      "source": [],
      "metadata": {
        "id": "DpxwtDqjShQA"
      }
    },
    {
      "cell_type": "code",
      "source": [
        "import numpy as np\n",
        "import pandas as pd\n",
        "from sklearn.ensemble import RandomForestClassifier\n",
        "from sklearn.metrics import roc_auc_score\n",
        "from sklearn.compose import ColumnTransformer\n",
        "from sklearn.preprocessing import OneHotEncoder, StandardScaler\n",
        "from sklearn.pipeline import Pipeline\n",
        "from sklearn.model_selection import train_test_split\n",
        "\n",
        "# Загрузка данных\n",
        "zoo_data = pd.read_csv('zoo_data.csv')  # Укажите путь к вашему набору данных\n",
        "\n",
        "# Определение признаков и целевой переменной\n",
        "zoo_categorical_features = ['hair', 'feathers', 'eggs', 'milk', 'airborne', 'aquatic', 'predator', 'toothed', 'backbone', 'breathes', 'venomous', 'fins', 'tail', 'domestic']\n",
        "zoo_numeric_features = ['legs']\n",
        "\n",
        "X = zoo_data[zoo_categorical_features + zoo_numeric_features]\n",
        "y = zoo_data['catsize']\n",
        "\n",
        "# Разделение данных на обучающую и тестовую выборки\n",
        "train_X, test_X, train_y, test_y = train_test_split(X, y, test_size=0.2, random_state=42)\n",
        "\n",
        "# Бейзлайн классификация (только категориальные признаки, глубина дерева = 5)\n",
        "categorical_transformer = OneHotEncoder(sparse_output=False, handle_unknown='ignore')\n",
        "numerical_transformer = StandardScaler()\n",
        "\n",
        "preprocessor_baseline = ColumnTransformer(\n",
        "    transformers=[\n",
        "        ('cat', categorical_transformer, zoo_categorical_features),\n",
        "        ('num', numerical_transformer, zoo_numeric_features)\n",
        "    ]\n",
        ")\n",
        "\n",
        "pipeline_baseline = Pipeline(steps=[\n",
        "    ('preprocessor', preprocessor_baseline),\n",
        "    ('classifier', RandomForestClassifier(n_estimators=100, max_depth=5, random_state=42))\n",
        "])\n",
        "\n",
        "pipeline_baseline.fit(train_X, train_y)\n",
        "y_pred_baseline = pipeline_baseline.predict(test_X)\n",
        "\n",
        "roc_auc_baseline = roc_auc_score(test_y, y_pred_baseline)\n",
        "print(f\"Sklearn RandomForest baseline ROC_AUC metric is: {roc_auc_baseline}\")\n",
        "\n",
        "# Улучшенная классификация (категориальные + числовые признаки, гиперпараметры)\n",
        "preprocessor_improved = ColumnTransformer(\n",
        "    transformers=[\n",
        "        ('cat', categorical_transformer, zoo_categorical_features),\n",
        "        ('num', numerical_transformer, zoo_numeric_features)\n",
        "    ]\n",
        ")\n",
        "\n",
        "pipeline_improved = Pipeline(steps=[\n",
        "    ('preprocessor', preprocessor_improved),\n",
        "    ('classifier', RandomForestClassifier(n_estimators=200, max_depth=15, min_samples_leaf=10, random_state=42))\n",
        "])\n",
        "\n",
        "pipeline_improved.fit(train_X, train_y)\n",
        "y_pred_improved = pipeline_improved.predict(test_X)\n",
        "\n",
        "roc_auc_improved = roc_auc_score(test_y, y_pred_improved)\n",
        "print(f\"Sklearn RandomForest Improved ROC_AUC metric is: {roc_auc_improved}\")\n"
      ],
      "metadata": {
        "colab": {
          "base_uri": "https://localhost:8080/"
        },
        "id": "5YkAGyUFSlo0",
        "outputId": "d5943b1b-2b83-4db8-9350-b91d423383d0"
      },
      "execution_count": null,
      "outputs": [
        {
          "output_type": "stream",
          "name": "stdout",
          "text": [
            "Sklearn RandomForest baseline ROC_AUC metric is: 0.9045454545454545\n",
            "Sklearn RandomForest Improved ROC_AUC metric is: 0.8545454545454546\n"
          ]
        }
      ]
    },
    {
      "cell_type": "markdown",
      "source": [
        "## Регрессия и улучшенаая регрессия"
      ],
      "metadata": {
        "id": "49zCPP0BTBSt"
      }
    },
    {
      "cell_type": "code",
      "source": [
        "import numpy as np\n",
        "import pandas as pd\n",
        "from sklearn.ensemble import RandomForestRegressor\n",
        "from sklearn.metrics import mean_absolute_error\n",
        "from sklearn.compose import ColumnTransformer\n",
        "from sklearn.preprocessing import OneHotEncoder, StandardScaler\n",
        "from sklearn.pipeline import Pipeline\n",
        "from sklearn.model_selection import train_test_split\n",
        "\n",
        "# Загрузка данных\n",
        "zoo_data = pd.read_csv('zoo_data.csv')  # Укажите путь к вашему набору данных\n",
        "\n",
        "# Определение признаков и целевой переменной\n",
        "zoo_categorical_features = ['hair', 'feathers', 'eggs', 'milk', 'airborne', 'aquatic', 'predator', 'toothed', 'backbone', 'breathes', 'venomous', 'fins', 'tail', 'domestic']\n",
        "zoo_numeric_features = ['legs']\n",
        "\n",
        "X = zoo_data[zoo_categorical_features + zoo_numeric_features]\n",
        "y = zoo_data['legs']\n",
        "\n",
        "# Разделение данных на обучающую и тестовую выборки\n",
        "train_X, test_X, train_y, test_y = train_test_split(X, y, test_size=0.2, random_state=42)\n",
        "\n",
        "# Бейзлайн регрессия (только категориальные признаки, глубина дерева = 10)\n",
        "categorical_transformer = OneHotEncoder(sparse_output=False, handle_unknown='ignore')\n",
        "numerical_transformer = StandardScaler()\n",
        "\n",
        "preprocessor_baseline = ColumnTransformer(\n",
        "    transformers=[\n",
        "        ('cat', categorical_transformer, zoo_categorical_features),\n",
        "        ('num', numerical_transformer, zoo_numeric_features)\n",
        "    ]\n",
        ")\n",
        "\n",
        "pipeline_baseline = Pipeline(steps=[\n",
        "    ('preprocessor', preprocessor_baseline),\n",
        "    ('classifier', RandomForestRegressor(n_estimators=100, max_depth=10, min_samples_leaf=5, random_state=42))\n",
        "])\n",
        "\n",
        "pipeline_baseline.fit(train_X, train_y)\n",
        "y_pred_baseline = pipeline_baseline.predict(test_X)\n",
        "\n",
        "mae_baseline = mean_absolute_error(test_y, y_pred_baseline)\n",
        "print(f\"Sklearn RandomForest baseline MAE metric is: {mae_baseline}\")\n",
        "\n",
        "# Улучшенная регрессия (категориальные + числовые признаки, гиперпараметры)\n",
        "preprocessor_improved = ColumnTransformer(\n",
        "    transformers=[\n",
        "        ('cat', categorical_transformer, zoo_categorical_features),\n",
        "        ('num', numerical_transformer, zoo_numeric_features)\n",
        "    ]\n",
        ")\n",
        "\n",
        "pipeline_improved = Pipeline(steps=[\n",
        "    ('preprocessor', preprocessor_improved),\n",
        "    ('classifier', RandomForestRegressor(n_estimators=200, max_depth=15, min_samples_leaf=10, random_state=42))\n",
        "])\n",
        "\n",
        "pipeline_improved.fit(train_X, train_y)\n",
        "y_pred_improved = pipeline_improved.predict(test_X)\n",
        "\n",
        "mae_improved = mean_absolute_error(test_y, y_pred_improved)\n",
        "print(f\"Sklearn RandomForest Improved MAE metric is: {mae_improved}\")\n"
      ],
      "metadata": {
        "colab": {
          "base_uri": "https://localhost:8080/"
        },
        "id": "dT1G7aeyTEA3",
        "outputId": "2ab34d21-af37-47e1-9231-791f4f2dcf74"
      },
      "execution_count": null,
      "outputs": [
        {
          "output_type": "stream",
          "name": "stdout",
          "text": [
            "Sklearn RandomForest baseline MAE metric is: 0.0432551733980304\n",
            "Sklearn RandomForest Improved MAE metric is: 0.21331417313283926\n"
          ]
        }
      ]
    },
    {
      "cell_type": "markdown",
      "source": [
        "В базовой модели удалось достичь лучшего качества с MAE 0.0432551733980304, тогда как улучшенная модель с изменёнными гиперпараметрами показала хужеe качество (MAE 0.21331417313283926), что может указывать на переобучение или неудачный подбор параметров.\n",
        "\n",
        "\n",
        "\n",
        "\n",
        "\n",
        "\n"
      ],
      "metadata": {
        "id": "_sJu-31oTWeQ"
      }
    },
    {
      "cell_type": "markdown",
      "source": [
        "# Кастомный Random Forest"
      ],
      "metadata": {
        "id": "TnAvbEbxTcyg"
      }
    },
    {
      "cell_type": "code",
      "source": [
        "class BaseCustomRandomForest:\n",
        "    def __init__(self, n_estimators=10, max_depth=None, min_samples_split=2, max_features=None, random_state=None):\n",
        "        self.n_estimators = n_estimators\n",
        "        self.max_depth = max_depth\n",
        "        self.min_samples_split = min_samples_split\n",
        "        self.max_features = max_features\n",
        "        self.random_state = random_state\n",
        "        self.trees = []\n",
        "        self.feature_indices = []\n",
        "\n",
        "    def _bootstrap_sample(self, X, y):\n",
        "        n_samples = X.shape[0]\n",
        "        sample_indices = np.random.choice(n_samples, n_samples, replace=True)\n",
        "        return X[sample_indices], y[sample_indices]\n",
        "\n",
        "    def _subset_features(self, n_features):\n",
        "        if self.max_features is None:\n",
        "            max_features = n_features\n",
        "        else:\n",
        "            max_features = min(n_features, self.max_features)\n",
        "        return np.random.choice(n_features, max_features, replace=False)\n",
        "\n",
        "\n",
        "class CustomRandomForestClassifier(BaseCustomRandomForest, BaseEstimator, ClassifierMixin):\n",
        "    def fit(self, X, y):\n",
        "        y = y.to_numpy().reshape(-1, 1)\n",
        "        np.random.seed(self.random_state)\n",
        "        self.trees = []\n",
        "        self.feature_indices = []\n",
        "\n",
        "        n_features = X.shape[1]\n",
        "\n",
        "        for _ in range(self.n_estimators):\n",
        "            X_sample, y_sample = self._bootstrap_sample(X, y)\n",
        "            feature_indices = self._subset_features(n_features)\n",
        "            self.feature_indices.append(feature_indices)\n",
        "\n",
        "            tree = CustomDecisionTreeClassifier(max_depth=self.max_depth, min_samples_split=self.min_samples_split)\n",
        "            tree.fit(X_sample[:, feature_indices], y_sample)\n",
        "            self.trees.append(tree)\n",
        "\n",
        "        return self\n",
        "\n",
        "    def predict(self, X):\n",
        "        predictions = np.zeros((X.shape[0], len(self.trees)))\n",
        "        for i, tree in enumerate(self.trees):\n",
        "            predictions[:, i] = tree.predict(X[:, self.feature_indices[i]]).flatten()\n",
        "\n",
        "        return np.apply_along_axis(lambda x: np.bincount(x.astype(int)).argmax(), axis=1, arr=predictions)\n",
        "\n",
        "    def predict_proba(self, X):\n",
        "        predictions = np.zeros((X.shape[0], len(self.trees), len(np.unique(self.trees[0].classes))))\n",
        "        for i, tree in enumerate(self.trees):\n",
        "            predictions[:, i, :] = tree.predict_proba(X[:, self.feature_indices[i]])\n",
        "        return np.mean(predictions, axis=1)\n",
        "\n",
        "\n",
        "class CustomRandomForestRegressor(BaseCustomRandomForest, BaseEstimator, RegressorMixin):\n",
        "    def fit(self, X, y):\n",
        "        y = y.to_numpy().reshape(-1, 1)\n",
        "        np.random.seed(self.random_state)\n",
        "        self.trees = []\n",
        "        self.feature_indices = []\n",
        "\n",
        "        n_features = X.shape[1]\n",
        "\n",
        "        for _ in range(self.n_estimators):\n",
        "            X_sample, y_sample = self._bootstrap_sample(X, y)\n",
        "            feature_indices = self._subset_features(n_features)\n",
        "            self.feature_indices.append(feature_indices)\n",
        "\n",
        "            tree = CustomDecisionTreeRegressor(max_depth=self.max_depth, min_samples_split=self.min_samples_split)\n",
        "            tree.fit(X_sample[:, feature_indices], y_sample)\n",
        "            self.trees.append(tree)\n",
        "\n",
        "        return self\n",
        "\n",
        "    def predict(self, X):\n",
        "        predictions = np.zeros((X.shape[0], len(self.trees)))\n",
        "        for i, tree in enumerate(self.trees):\n",
        "            predictions[:, i] = tree.predict(X[:, self.feature_indices[i]])\n",
        "        return np.mean(predictions, axis=1)\n"
      ],
      "metadata": {
        "id": "efCyLlI8Tfa1"
      },
      "execution_count": null,
      "outputs": []
    },
    {
      "cell_type": "markdown",
      "source": [
        "## Кастомная и улучшенная классификация"
      ],
      "metadata": {
        "id": "9l54AeH-To2R"
      }
    },
    {
      "cell_type": "code",
      "source": [
        "import numpy as np\n",
        "import pandas as pd\n",
        "from sklearn.model_selection import train_test_split\n",
        "from sklearn.preprocessing import OneHotEncoder, StandardScaler\n",
        "from sklearn.compose import ColumnTransformer\n",
        "from sklearn.pipeline import Pipeline\n",
        "from sklearn.metrics import roc_auc_score\n",
        "\n",
        "# Ensure CustomRandomForestClassifier is defined in the current environment\n",
        "# Ensure your dataset is loaded properly\n",
        "\n",
        "# Load the dataset\n",
        "zoo_data = pd.read_csv('zoo_data.csv')  # Replace with your dataset path\n",
        "\n",
        "# Define target and feature columns\n",
        "target = 'catsize'\n",
        "zoo_categorical_features = ['hair', 'feathers', 'eggs', 'milk', 'airborne', 'aquatic', 'predator',\n",
        "                            'toothed', 'backbone', 'breathes', 'venomous', 'fins', 'tail', 'domestic']\n",
        "zoo_numeric_features = ['legs']\n",
        "\n",
        "# Prepare data for training\n",
        "X = zoo_data[zoo_categorical_features + zoo_numeric_features]\n",
        "y = zoo_data[target]\n",
        "\n",
        "train_X, test_X, train_y, test_y = train_test_split(X, y, test_size=0.2, random_state=42)\n",
        "\n",
        "# Baseline classification using CustomRandomForestClassifier\n",
        "categorical_transformer = OneHotEncoder(sparse_output=False, handle_unknown='ignore')\n",
        "\n",
        "preprocessor_baseline = ColumnTransformer(\n",
        "    transformers=[\n",
        "        ('cat', categorical_transformer, zoo_categorical_features)\n",
        "    ]\n",
        ")\n",
        "\n",
        "pipeline_baseline = Pipeline(steps=[\n",
        "    ('preprocessor', preprocessor_baseline),\n",
        "    ('classifier', CustomRandomForestClassifier(n_estimators=100, max_depth=5, random_state=42))\n",
        "])\n",
        "\n",
        "pipeline_baseline.fit(train_X, train_y)\n",
        "y_pred_baseline = pipeline_baseline.predict(test_X)\n",
        "\n",
        "roc_auc_baseline = roc_auc_score(test_y, y_pred_baseline)\n",
        "print(f\"Custom RandomForest baseline ROC_AUC metric is: {roc_auc_baseline}\")\n",
        "\n",
        "# Improved classification using CustomRandomForestClassifier\n",
        "categorical_transformer = OneHotEncoder(sparse_output=False, handle_unknown='ignore')\n",
        "numerical_transformer = StandardScaler()\n",
        "\n",
        "preprocessor_improved = ColumnTransformer(\n",
        "    transformers=[\n",
        "        ('cat', categorical_transformer, zoo_categorical_features),\n",
        "        ('num', numerical_transformer, zoo_numeric_features)\n",
        "    ]\n",
        ")\n",
        "\n",
        "pipeline_improved = Pipeline(steps=[\n",
        "    ('preprocessor', preprocessor_improved),\n",
        "    ('classifier', CustomRandomForestClassifier(n_estimators=200, max_depth=15, random_state=42))\n",
        "])\n",
        "\n",
        "pipeline_improved.fit(train_X, train_y)\n",
        "y_pred_improved = pipeline_improved.predict(test_X)\n",
        "\n",
        "roc_auc_improved = roc_auc_score(test_y, y_pred_improved)\n",
        "print(f\"Custom RandomForest Improved ROC_AUC metric is: {roc_auc_improved}\")\n"
      ],
      "metadata": {
        "colab": {
          "base_uri": "https://localhost:8080/"
        },
        "id": "CEgjmzs4TreM",
        "outputId": "7a881bad-48cd-41e3-b210-b63127f711d9"
      },
      "execution_count": null,
      "outputs": [
        {
          "output_type": "stream",
          "name": "stdout",
          "text": [
            "Custom RandomForest baseline ROC_AUC metric is: 0.8545454545454546\n",
            "Custom RandomForest Improved ROC_AUC metric is: 0.9045454545454545\n"
          ]
        }
      ]
    },
    {
      "cell_type": "markdown",
      "source": [
        "Использование кастомной реализации RandomForestClassifier показало улучшение качества классификации: метрика ROC_AUC увеличилась с 0.8545 в базовой модели до 0.9045 в улучшенной версии, благодаря добавлению числовых признаков и настройке гиперпараметров"
      ],
      "metadata": {
        "id": "8KvP8bVrT6wH"
      }
    },
    {
      "cell_type": "markdown",
      "source": [
        "## Кастомная и улучшенная регрессия"
      ],
      "metadata": {
        "id": "AC958_Q2T_VN"
      }
    },
    {
      "cell_type": "code",
      "source": [
        "from sklearn.pipeline import Pipeline\n",
        "from sklearn.compose import ColumnTransformer\n",
        "from sklearn.preprocessing import OneHotEncoder, StandardScaler\n",
        "from sklearn.metrics import mean_absolute_error\n",
        "\n",
        "# Custom regression baseline\n",
        "categorical_transformer = OneHotEncoder(sparse_output=False)\n",
        "numerical_transformer = StandardScaler()\n",
        "\n",
        "preprocessor_baseline = ColumnTransformer(\n",
        "    transformers=[\n",
        "        ('cat', categorical_transformer, zoo_categorical_features),\n",
        "    ]\n",
        ")\n",
        "\n",
        "pipeline_baseline = Pipeline(steps=[\n",
        "    ('preprocessor', preprocessor_baseline),\n",
        "    ('classifier', CustomRandomForestRegressor(n_estimators=100, max_depth=10))\n",
        "])\n",
        "\n",
        "pipeline_baseline.fit(train_X, train_y)\n",
        "y_pred_baseline = pipeline_baseline.predict(test_X)\n",
        "\n",
        "mae_baseline = mean_absolute_error(test_y, y_pred_baseline)\n",
        "print(f\"Custom RandomForest baseline MAE metric is: {mae_baseline}\")\n",
        "\n",
        "# Custom regression improved\n",
        "categorical_transformer = OneHotEncoder(sparse_output=False)\n",
        "numerical_transformer = StandardScaler()\n",
        "\n",
        "preprocessor_improved = ColumnTransformer(\n",
        "    transformers=[\n",
        "        ('cat', categorical_transformer, zoo_categorical_features),\n",
        "        ('num', numerical_transformer, zoo_numeric_features)\n",
        "    ]\n",
        ")\n",
        "\n",
        "pipeline_improved = Pipeline(steps=[\n",
        "    ('preprocessor', preprocessor_improved),\n",
        "    ('classifier', CustomRandomForestRegressor(n_estimators=100, max_depth=10))\n",
        "])\n",
        "\n",
        "pipeline_improved.fit(train_X, train_y)\n",
        "y_pred_improved = pipeline_improved.predict(test_X)\n",
        "\n",
        "mae_improved = mean_absolute_error(test_y, y_pred_improved)\n",
        "print(f\"Custom RandomForest improved MAE metric is: {mae_improved}\")\n"
      ],
      "metadata": {
        "colab": {
          "base_uri": "https://localhost:8080/"
        },
        "id": "NIFeL_G5UB2X",
        "outputId": "07dd48d6-06ea-4043-c2c9-8b000eeb707b"
      },
      "execution_count": null,
      "outputs": [
        {
          "output_type": "stream",
          "name": "stdout",
          "text": [
            "Custom RandomForest baseline MAE metric is: 0.2811737931380788\n",
            "Custom RandomForest improved MAE metric is: 0.3035302805659949\n"
          ]
        }
      ]
    },
    {
      "cell_type": "markdown",
      "source": [
        "В базовой версии Custom RandomForest удалось достичь меньшей MAE метрики, чем в улучшенной версии, что может быть связано с особенностями добавленных признаков и гиперпараметров, которые не оптимально соответствуют структуре данных."
      ],
      "metadata": {
        "id": "aRLvEt2XUZQS"
      }
    },
    {
      "cell_type": "markdown",
      "source": [
        "# Градиентый спуск"
      ],
      "metadata": {
        "id": "dYa5tGfLUeR4"
      }
    },
    {
      "cell_type": "markdown",
      "source": [
        "## Регрессия и улучшенная регрессия"
      ],
      "metadata": {
        "id": "NnerBpeoU8kb"
      }
    },
    {
      "cell_type": "code",
      "source": [
        "from sklearn.pipeline import Pipeline\n",
        "from sklearn.compose import ColumnTransformer\n",
        "from sklearn.preprocessing import OneHotEncoder, StandardScaler\n",
        "from sklearn.metrics import mean_absolute_error\n",
        "from sklearn.ensemble import GradientBoostingRegressor\n",
        "\n",
        "# Gradient Boosting regression baseline\n",
        "categorical_transformer = OneHotEncoder(sparse_output=False)\n",
        "numerical_transformer = StandardScaler()\n",
        "\n",
        "preprocessor_baseline = ColumnTransformer(\n",
        "    transformers=[\n",
        "        ('cat', categorical_transformer, zoo_categorical_features),\n",
        "    ]\n",
        ")\n",
        "\n",
        "pipeline_baseline = Pipeline(steps=[\n",
        "    ('preprocessor', preprocessor_baseline),\n",
        "    ('classifier', GradientBoostingRegressor(n_estimators=100, learning_rate=0.1, max_depth=3))\n",
        "])\n",
        "\n",
        "pipeline_baseline.fit(train_X, train_y)\n",
        "y_pred_baseline = pipeline_baseline.predict(test_X)\n",
        "\n",
        "mae_baseline = mean_absolute_error(test_y, y_pred_baseline)\n",
        "print(f\"Gradient Boosting baseline MAE metric is: {mae_baseline}\")\n",
        "\n",
        "# Gradient Boosting regression improved\n",
        "categorical_transformer = OneHotEncoder(sparse_output=False)\n",
        "numerical_transformer = StandardScaler()\n",
        "\n",
        "preprocessor_improved = ColumnTransformer(\n",
        "    transformers=[\n",
        "        ('cat', categorical_transformer, zoo_categorical_features),\n",
        "        ('num', numerical_transformer, zoo_numeric_features)\n",
        "    ]\n",
        ")\n",
        "\n",
        "pipeline_improved = Pipeline(steps=[\n",
        "    ('preprocessor', preprocessor_improved),\n",
        "    ('classifier', GradientBoostingRegressor(n_estimators=300, learning_rate=0.1, max_leaf_nodes=10, max_depth=2))\n",
        "])\n",
        "\n",
        "pipeline_improved.fit(train_X, train_y)\n",
        "y_pred_improved = pipeline_improved.predict(test_X)\n",
        "\n",
        "mae_improved = mean_absolute_error(test_y, y_pred_improved)\n",
        "print(f\"Gradient Boosting improved MAE metric is: {mae_improved}\")\n"
      ],
      "metadata": {
        "colab": {
          "base_uri": "https://localhost:8080/"
        },
        "id": "fGD6vIp8Uih8",
        "outputId": "11b2acc6-08bc-4f98-dc01-f2a2a104ed48"
      },
      "execution_count": null,
      "outputs": [
        {
          "output_type": "stream",
          "name": "stdout",
          "text": [
            "Gradient Boosting baseline MAE metric is: 0.2582182615899443\n",
            "Gradient Boosting improved MAE metric is: 0.3148348364945318\n"
          ]
        }
      ]
    },
    {
      "cell_type": "markdown",
      "source": [
        "## Классификации и улучшенная классификация"
      ],
      "metadata": {
        "id": "bIhZY9BqU6MD"
      }
    },
    {
      "cell_type": "code",
      "source": [
        "from sklearn.pipeline import Pipeline\n",
        "from sklearn.compose import ColumnTransformer\n",
        "from sklearn.preprocessing import OneHotEncoder, StandardScaler\n",
        "from sklearn.metrics import roc_auc_score\n",
        "from sklearn.ensemble import GradientBoostingClassifier\n",
        "\n",
        "# Gradient Boosting classification baseline\n",
        "categorical_transformer = OneHotEncoder(sparse_output=False)\n",
        "numerical_transformer = StandardScaler()\n",
        "\n",
        "preprocessor_baseline = ColumnTransformer(\n",
        "    transformers=[\n",
        "        ('cat', categorical_transformer, zoo_categorical_features),\n",
        "    ]\n",
        ")\n",
        "\n",
        "pipeline_baseline = Pipeline(steps=[\n",
        "    ('preprocessor', preprocessor_baseline),\n",
        "    ('classifier', GradientBoostingClassifier(n_estimators=300, learning_rate=0.1, max_leaf_nodes=10, max_depth=2))\n",
        "])\n",
        "\n",
        "pipeline_baseline.fit(train_X, train_y)\n",
        "y_pred_baseline = pipeline_baseline.predict(test_X)\n",
        "\n",
        "roc_auc_baseline = roc_auc_score(test_y, y_pred_baseline)\n",
        "print(f\"Gradient Boosting baseline ROC_AUC metric is: {roc_auc_baseline}\")\n",
        "\n",
        "# Gradient Boosting classification improved\n",
        "categorical_transformer = OneHotEncoder(sparse_output=False)\n",
        "numerical_transformer = StandardScaler()\n",
        "\n",
        "preprocessor_improved = ColumnTransformer(\n",
        "    transformers=[\n",
        "        ('cat', categorical_transformer, zoo_categorical_features),\n",
        "        ('num', numerical_transformer, zoo_numeric_features)\n",
        "    ]\n",
        ")\n",
        "\n",
        "pipeline_improved = Pipeline(steps=[\n",
        "    ('preprocessor', preprocessor_improved),\n",
        "    ('classifier', GradientBoostingClassifier(n_estimators=200, learning_rate=0.15, max_depth=3))\n",
        "])\n",
        "\n",
        "pipeline_improved.fit(train_X, train_y)\n",
        "y_pred_improved = pipeline_improved.predict(test_X)\n",
        "\n",
        "roc_auc_improved = roc_auc_score(test_y, y_pred_improved)\n",
        "print(f\"Gradient Boosting improved ROC_AUC metric is: {roc_auc_improved}\")\n"
      ],
      "metadata": {
        "colab": {
          "base_uri": "https://localhost:8080/"
        },
        "id": "E2WMTSHaVDsW",
        "outputId": "8a456c5e-9f1b-4e73-a19d-a92fa1dc4490"
      },
      "execution_count": null,
      "outputs": [
        {
          "output_type": "stream",
          "name": "stdout",
          "text": [
            "Gradient Boosting baseline ROC_AUC metric is: 0.9045454545454545\n",
            "Gradient Boosting improved ROC_AUC metric is: 0.9045454545454545\n"
          ]
        }
      ]
    },
    {
      "cell_type": "markdown",
      "source": [
        "# Кастомный Градиентый бустринг"
      ],
      "metadata": {
        "id": "3TqNJ8zqVWBM"
      }
    },
    {
      "cell_type": "code",
      "source": [
        "class CustomGradientBoostingRegressor(BaseEstimator, RegressorMixin):\n",
        "    def __init__(self, n_estimators=100, learning_rate=0.1, max_depth=3, min_samples_split=2, random_state=None):\n",
        "        self.n_estimators = n_estimators\n",
        "        self.learning_rate = learning_rate\n",
        "        self.max_depth = max_depth\n",
        "        self.min_samples_split = min_samples_split\n",
        "        self.random_state = random_state\n",
        "        self.trees = []\n",
        "        self.initial_prediction = None\n",
        "\n",
        "    def fit(self, X, y):\n",
        "        np.random.seed(self.random_state)\n",
        "        self.trees = []\n",
        "        self.initial_prediction = np.mean(y)  # Начальное предсказание как среднее значение y\n",
        "\n",
        "        y_pred = np.full_like(y, self.initial_prediction, dtype=float)\n",
        "\n",
        "        for _ in range(self.n_estimators):\n",
        "            residuals = y - y_pred  # Вычисление градиентов\n",
        "            tree = CustomDecisionTreeRegressor(max_depth=self.max_depth, min_samples_split=self.min_samples_split)\n",
        "            tree.fit(X, residuals)  # Обучаем дерево на остатки\n",
        "            self.trees.append(tree)\n",
        "            y_pred += self.learning_rate * tree.predict(X)  # Обновляем предсказания\n",
        "\n",
        "        return self\n",
        "\n",
        "    def predict(self, X):\n",
        "        y_pred = np.full(X.shape[0], self.initial_prediction, dtype=float)\n",
        "        for tree in self.trees:\n",
        "            y_pred += self.learning_rate * tree.predict(X)\n",
        "        return y_pred\n",
        "\n",
        "\n",
        "class CustomGradientBoostingClassifier(BaseEstimator, ClassifierMixin):\n",
        "    def __init__(self, n_estimators=100, learning_rate=0.1, max_depth=3, min_samples_split=2, random_state=None):\n",
        "        self.n_estimators = n_estimators\n",
        "        self.learning_rate = learning_rate\n",
        "        self.max_depth = max_depth\n",
        "        self.min_samples_split = min_samples_split\n",
        "        self.random_state = random_state\n",
        "        self.trees = []\n",
        "        self.classes = None\n",
        "\n",
        "    def fit(self, X, y):\n",
        "        np.random.seed(self.random_state)\n",
        "        self.classes = np.unique(y)\n",
        "        y_onehot = np.eye(len(self.classes))[y]  # One-hot encoding для целевой переменной\n",
        "\n",
        "        y_pred = np.zeros_like(y_onehot, dtype=float)  # Начальные предсказания\n",
        "        self.trees = []\n",
        "\n",
        "        for _ in range(self.n_estimators):\n",
        "            residuals = y_onehot - self._softmax(y_pred)  # Градиенты\n",
        "            class_trees = []\n",
        "            for c in range(len(self.classes)):\n",
        "                tree = CustomDecisionTreeRegressor(max_depth=self.max_depth, min_samples_split=self.min_samples_split)\n",
        "                tree.fit(X, residuals[:, c])\n",
        "                class_trees.append(tree)\n",
        "                y_pred[:, c] += self.learning_rate * tree.predict(X)  # Обновляем предсказания\n",
        "            self.trees.append(class_trees)\n",
        "\n",
        "        return self\n",
        "\n",
        "    def predict_proba(self, X):\n",
        "        y_pred = np.zeros((X.shape[0], len(self.classes)), dtype=float)\n",
        "        for class_trees in self.trees:\n",
        "            for c, tree in enumerate(class_trees):\n",
        "                y_pred[:, c] += self.learning_rate * tree.predict(X)\n",
        "        return self._softmax(y_pred)\n",
        "\n",
        "    def predict(self, X):\n",
        "        return np.argmax(self.predict_proba(X), axis=1)\n",
        "\n",
        "    @staticmethod\n",
        "    def _softmax(logits):\n",
        "        exp_logits = np.exp(logits - np.max(logits, axis=1, keepdims=True))\n",
        "        return exp_logits / np.sum(exp_logits, axis=1, keepdims=True)\n"
      ],
      "metadata": {
        "id": "i0Y_oqAKVMRx"
      },
      "execution_count": null,
      "outputs": []
    },
    {
      "cell_type": "markdown",
      "source": [
        "## Кастомная регрессия и кастомная улучшенная регрессия"
      ],
      "metadata": {
        "id": "u7aIN0d5Vm6Z"
      }
    },
    {
      "cell_type": "code",
      "source": [
        "import numpy as np\n",
        "import pandas as pd\n",
        "from sklearn.metrics import mean_absolute_error\n",
        "from sklearn.model_selection import train_test_split\n",
        "from sklearn.preprocessing import OneHotEncoder, StandardScaler\n",
        "from sklearn.compose import ColumnTransformer\n",
        "from sklearn.pipeline import Pipeline\n",
        "\n",
        "# Предполагается, что CustomGradientBoostingRegressor уже определён\n",
        "# from your_module import CustomGradientBoostingRegressor\n",
        "\n",
        "# Загрузка данных\n",
        "zoo_data = pd.read_csv('zoo_data.csv')  # Укажите верный путь к вашему датасету\n",
        "\n",
        "# Целевая переменная\n",
        "target = 'legs'\n",
        "\n",
        "# Признаки: категориальные и числовые\n",
        "zoo_categorical_features = ['hair', 'feathers', 'eggs', 'milk', 'airborne', 'aquatic',\n",
        "                            'predator', 'toothed', 'backbone', 'breathes', 'venomous',\n",
        "                            'fins', 'tail', 'domestic', 'catsize']\n",
        "zoo_numeric_features = []  # Пока без числовых признаков\n",
        "\n",
        "# Делим данные на признаки и целевую переменную\n",
        "X = zoo_data[zoo_categorical_features]\n",
        "y = zoo_data[target]\n",
        "\n",
        "# Разделение данных на обучающую и тестовую выборки\n",
        "train_X, test_X, train_y, test_y = train_test_split(X, y, test_size=0.2, random_state=42)\n",
        "\n",
        "# Базовая модель регрессии\n",
        "categorical_transformer = OneHotEncoder(sparse_output=False, handle_unknown='ignore')\n",
        "\n",
        "preprocessor_baseline = ColumnTransformer(\n",
        "    transformers=[\n",
        "        ('cat', categorical_transformer, zoo_categorical_features)\n",
        "    ]\n",
        ")\n",
        "\n",
        "pipeline_baseline = Pipeline(steps=[\n",
        "    ('preprocessor', preprocessor_baseline),\n",
        "    ('classifier', CustomGradientBoostingRegressor(n_estimators=100, learning_rate=0.1, max_depth=3))\n",
        "])\n",
        "\n",
        "pipeline_baseline.fit(train_X, train_y)\n",
        "y_pred_baseline = pipeline_baseline.predict(test_X)\n",
        "\n",
        "mae_baseline = mean_absolute_error(test_y, y_pred_baseline)\n",
        "print(f\"Custom Boosting baseline MAE metric is: {mae_baseline}\")\n",
        "\n",
        "# Улучшенная модель регрессии\n",
        "zoo_categorical_features_added = ['hair', 'feathers', 'eggs', 'milk', 'airborne', 'aquatic',\n",
        "                                  'predator', 'toothed', 'backbone', 'breathes', 'venomous',\n",
        "                                  'fins', 'tail', 'domestic', 'catsize']\n",
        "zoo_numeric_features_added = ['legs']  # Числовой признак \"legs\"\n",
        "\n",
        "# Теперь включаем и числовые признаки\n",
        "X = zoo_data[zoo_categorical_features_added + zoo_numeric_features_added]\n",
        "y = zoo_data[target]\n",
        "\n",
        "train_X, test_X, train_y, test_y = train_test_split(X, y, test_size=0.2, random_state=42)\n",
        "\n",
        "categorical_transformer = OneHotEncoder(sparse_output=False, handle_unknown='ignore')\n",
        "numerical_transformer = StandardScaler()\n",
        "\n",
        "preprocessor_improved = ColumnTransformer(\n",
        "    transformers=[\n",
        "        ('cat', categorical_transformer, zoo_categorical_features_added),\n",
        "        ('num', numerical_transformer, zoo_numeric_features_added)\n",
        "    ]\n",
        ")\n",
        "\n",
        "pipeline_improved = Pipeline(steps=[\n",
        "    ('preprocessor', preprocessor_improved),\n",
        "    ('classifier', CustomGradientBoostingRegressor(n_estimators=100, learning_rate=0.1, max_depth=2))\n",
        "])\n",
        "\n",
        "pipeline_improved.fit(train_X, train_y)\n",
        "y_pred_improved = pipeline_improved.predict(test_X)\n",
        "\n",
        "mae_improved = mean_absolute_error(test_y, y_pred_improved)\n",
        "print(f\"Custom Boosting improved MAE metric is: {mae_improved}\")\n"
      ],
      "metadata": {
        "colab": {
          "base_uri": "https://localhost:8080/"
        },
        "id": "iPYOR-4kVp-M",
        "outputId": "cc1f9661-84f3-44dd-c098-865d0ad98960"
      },
      "execution_count": null,
      "outputs": [
        {
          "output_type": "stream",
          "name": "stdout",
          "text": [
            "Custom Boosting baseline MAE metric is: 0.8671868905484461\n",
            "Custom Boosting improved MAE metric is: 0.0001003021719784986\n"
          ]
        }
      ]
    },
    {
      "cell_type": "markdown",
      "source": [
        "## Кастомная классификация и кастомная улучшенная классификация"
      ],
      "metadata": {
        "id": "PhO5-48NXGns"
      }
    },
    {
      "cell_type": "code",
      "source": [
        "import numpy as np\n",
        "import pandas as pd\n",
        "from sklearn.metrics import roc_auc_score\n",
        "from sklearn.model_selection import train_test_split\n",
        "from sklearn.preprocessing import OneHotEncoder, StandardScaler\n",
        "from sklearn.compose import ColumnTransformer\n",
        "from sklearn.pipeline import Pipeline\n",
        "\n",
        "# Предполагается, что CustomGradientBoostingClassifier уже определён\n",
        "# from your_module import CustomGradientBoostingClassifier\n",
        "\n",
        "# Загрузка данных\n",
        "zoo_data = pd.read_csv('zoo_data.csv')  # Укажите путь к вашему датасету\n",
        "\n",
        "# Целевая переменная\n",
        "target = 'catsize'\n",
        "\n",
        "# Признаки\n",
        "zoo_categorical_features = ['hair', 'feathers', 'eggs', 'milk', 'airborne', 'aquatic',\n",
        "                            'predator', 'toothed', 'backbone', 'breathes', 'venomous',\n",
        "                            'fins', 'tail', 'domestic']\n",
        "zoo_numeric_features = ['legs']\n",
        "\n",
        "X = zoo_data[zoo_categorical_features + zoo_numeric_features]\n",
        "y = zoo_data[target]\n",
        "\n",
        "# Разделение данных на обучающую и тестовую выборки\n",
        "train_X, test_X, train_y, test_y = train_test_split(X, y, test_size=0.2, random_state=42)\n",
        "\n",
        "# Базовая модель классификации (только категориальные признаки, n_estimators=300, max_depth=2)\n",
        "categorical_transformer = OneHotEncoder(sparse_output=False, handle_unknown='ignore')\n",
        "\n",
        "preprocessor_baseline = ColumnTransformer(\n",
        "    transformers=[\n",
        "        ('cat', categorical_transformer, zoo_categorical_features)\n",
        "    ]\n",
        ")\n",
        "\n",
        "pipeline_baseline = Pipeline(steps=[\n",
        "    ('preprocessor', preprocessor_baseline),\n",
        "    ('classifier', CustomGradientBoostingClassifier(n_estimators=300, learning_rate=0.1, max_depth=2))\n",
        "])\n",
        "\n",
        "pipeline_baseline.fit(train_X, train_y)\n",
        "y_pred_baseline = pipeline_baseline.predict(test_X)\n",
        "\n",
        "roc_auc_baseline = roc_auc_score(test_y, y_pred_baseline)\n",
        "print(f\"Custom Boosting baseline ROC_AUC metric is: {roc_auc_baseline}\")\n",
        "\n",
        "# Улучшенная модель классификации (добавляем числовые признаки и изменяем параметры)\n",
        "zoo_categorical_features_added = ['hair', 'feathers', 'eggs', 'milk', 'airborne', 'aquatic',\n",
        "                                  'predator', 'toothed', 'backbone', 'breathes', 'venomous',\n",
        "                                  'fins', 'tail', 'domestic']\n",
        "zoo_numeric_features_added = ['legs']\n",
        "\n",
        "categorical_transformer = OneHotEncoder(sparse_output=False, handle_unknown='ignore')\n",
        "numerical_transformer = StandardScaler()\n",
        "\n",
        "preprocessor_improved = ColumnTransformer(\n",
        "    transformers=[\n",
        "        ('cat', categorical_transformer, zoo_categorical_features_added),\n",
        "        ('num', numerical_transformer, zoo_numeric_features_added)\n",
        "    ]\n",
        ")\n",
        "\n",
        "pipeline_improved = Pipeline(steps=[\n",
        "    ('preprocessor', preprocessor_improved),\n",
        "    ('classifier', CustomGradientBoostingClassifier(n_estimators=200, learning_rate=0.15, max_depth=3))\n",
        "])\n",
        "\n",
        "pipeline_improved.fit(train_X, train_y)\n",
        "y_pred_improved = pipeline_improved.predict(test_X)\n",
        "\n",
        "roc_auc_improved = roc_auc_score(test_y, y_pred_improved)\n",
        "print(f\"Custom Boosting Improved ROC_AUC metric is: {roc_auc_improved}\")\n"
      ],
      "metadata": {
        "colab": {
          "base_uri": "https://localhost:8080/"
        },
        "id": "QeAvKxB3XLNf",
        "outputId": "bdcec366-ceef-4139-aa82-a1acadab2a1a"
      },
      "execution_count": null,
      "outputs": [
        {
          "output_type": "stream",
          "name": "stdout",
          "text": [
            "Custom Boosting baseline ROC_AUC metric is: 0.9045454545454545\n",
            "Custom Boosting Improved ROC_AUC metric is: 0.9045454545454545\n"
          ]
        }
      ]
    },
    {
      "cell_type": "code",
      "source": [
        "import pandas as pd\n",
        "\n",
        "# Данные для таблицы\n",
        "results = {\n",
        "    \"Алгоритм\": [\n",
        "        \"KNN\", \"KNN\", \"KNN\", \"KNN\",\n",
        "        \"Линейные модели\", \"Линейные модели\", \"Линейные модели\", \"Линейные модели\",\n",
        "        \"Решающие деревья\", \"Решающие деревья\", \"Решающие деревья\", \"Решающие деревья\",\n",
        "        \"Случайный лес\", \"Случайный лес\", \"Случайный лес\", \"Случайный лес\",\n",
        "        \"Градиентный бустинг\", \"Градиентный бустинг\", \"Градиентный бустинг\", \"Градиентный бустинг\"\n",
        "    ],\n",
        "    \"Задача\": [\n",
        "        \"классификация\", \"классификация\", \"регрессия\", \"регрессия\",\n",
        "        \"классификация\", \"классификация\", \"регрессия\", \"регрессия\",\n",
        "        \"классификация\", \"классификация\", \"регрессия\", \"регрессия\",\n",
        "        \"классификация\", \"классификация\", \"регрессия\", \"регрессия\",\n",
        "        \"классификация\", \"классификация\", \"регрессия\", \"регрессия\"\n",
        "    ],\n",
        "    \"Бейзлайн\": [\n",
        "        0.7135688478522682, 0.7135688478522682, 0.5, 0.2925,\n",
        "        0.9045454545454545, 0.9045454545454545, 0.29888239978505393, 0.4630992131986783,\n",
        "        0.9045454545454545, 0.9045454545454545, 0.71005291005291, 0.24541062801932367,\n",
        "        0.9045454545454545, 0.9045454545454545, 0.0432551733980304, 0.0432551733980304,\n",
        "        0.9045454545454545, 0.9045454545454545, 0.8671868905484461, 0.2582182615899443\n",
        "    ],\n",
        "    \"Улучшенный бейзлайн\": [\n",
        "        0.7661581694098756, 0.7661581694098756, 0.303, 0.303,\n",
        "        0.9045454545454545, 0.9045454545454545, 0.30451360689712176, 0.4635646735111874,\n",
        "        0.9045454545454545, 0.9045454545454545, 0.673015873015873, 0.14285714285714285,\n",
        "        0.8545454545454546, 0.8545454545454546, 0.21331417313283926, 0.21331417313283926,\n",
        "        0.9045454545454545, 0.9045454545454545, 0.0001003021719784986, 0.3148348364945318\n",
        "    ],\n",
        "    \"Самостоятельная имплементация алгоритма\": [\n",
        "        0.7714773183460458, 0.7661581694098756, 0.303, 0.303,\n",
        "        0.5, 0.8545454545454546, 0.4630992131986783, 0.4635646735111874,\n",
        "        0.8545454545454546, 0.9545454545454546, 0.71005291005291, 0.71005291005291,\n",
        "        0.8545454545454546, 0.9045454545454545, 0.0432551733980304, 0.21331417313283926,\n",
        "        0.9045454545454545, 0.9045454545454545, 0.0001003021719784986, 0.3148348364945318\n",
        "    ]\n",
        "}\n",
        "\n",
        "# Создание DataFrame\n",
        "df_results = pd.DataFrame(results)\n",
        "\n",
        "# Вывод таблицы\n",
        "print(df_results)\n"
      ],
      "metadata": {
        "colab": {
          "base_uri": "https://localhost:8080/"
        },
        "id": "Gf2cVrbyXbwu",
        "outputId": "b7c10255-1842-4e1b-dd1c-45574a74b7e3"
      },
      "execution_count": null,
      "outputs": [
        {
          "output_type": "stream",
          "name": "stdout",
          "text": [
            "               Алгоритм         Задача  Бейзлайн  Улучшенный бейзлайн  \\\n",
            "0                   KNN  классификация  0.713569             0.766158   \n",
            "1                   KNN  классификация  0.713569             0.766158   \n",
            "2                   KNN      регрессия  0.500000             0.303000   \n",
            "3                   KNN      регрессия  0.292500             0.303000   \n",
            "4       Линейные модели  классификация  0.904545             0.904545   \n",
            "5       Линейные модели  классификация  0.904545             0.904545   \n",
            "6       Линейные модели      регрессия  0.298882             0.304514   \n",
            "7       Линейные модели      регрессия  0.463099             0.463565   \n",
            "8      Решающие деревья  классификация  0.904545             0.904545   \n",
            "9      Решающие деревья  классификация  0.904545             0.904545   \n",
            "10     Решающие деревья      регрессия  0.710053             0.673016   \n",
            "11     Решающие деревья      регрессия  0.245411             0.142857   \n",
            "12        Случайный лес  классификация  0.904545             0.854545   \n",
            "13        Случайный лес  классификация  0.904545             0.854545   \n",
            "14        Случайный лес      регрессия  0.043255             0.213314   \n",
            "15        Случайный лес      регрессия  0.043255             0.213314   \n",
            "16  Градиентный бустинг  классификация  0.904545             0.904545   \n",
            "17  Градиентный бустинг  классификация  0.904545             0.904545   \n",
            "18  Градиентный бустинг      регрессия  0.867187             0.000100   \n",
            "19  Градиентный бустинг      регрессия  0.258218             0.314835   \n",
            "\n",
            "    Самостоятельная имплементация алгоритма  \n",
            "0                                  0.771477  \n",
            "1                                  0.766158  \n",
            "2                                  0.303000  \n",
            "3                                  0.303000  \n",
            "4                                  0.500000  \n",
            "5                                  0.854545  \n",
            "6                                  0.463099  \n",
            "7                                  0.463565  \n",
            "8                                  0.854545  \n",
            "9                                  0.954545  \n",
            "10                                 0.710053  \n",
            "11                                 0.710053  \n",
            "12                                 0.854545  \n",
            "13                                 0.904545  \n",
            "14                                 0.043255  \n",
            "15                                 0.213314  \n",
            "16                                 0.904545  \n",
            "17                                 0.904545  \n",
            "18                                 0.000100  \n",
            "19                                 0.314835  \n"
          ]
        }
      ]
    }
  ]
}